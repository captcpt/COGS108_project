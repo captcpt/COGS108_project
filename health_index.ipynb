{
 "cells": [
  {
   "cell_type": "markdown",
   "metadata": {},
   "source": [
    "## State Health Index Utilizing BRFSS Data"
   ]
  },
  {
   "cell_type": "markdown",
   "metadata": {},
   "source": [
    "# Overview"
   ]
  },
  {
   "cell_type": "markdown",
   "metadata": {},
   "source": [
    "The BRFSS or Behavioral Risk Factor Surveillance System is a nationwide telephone survey conducted by the CDC every year to gather various health data ranging from exercise to diet to healthcare access. They provide basic data visualization tools to observe some variables such as alcohol consumption across the general nation or for specific states/regions, however it does not effectively demonstrate general health trends and/or comparisons between regions. Thus, there is no definitive evidence for the relevance, benefit, and/or usability of the general BRFSS survey and data. Other organizations (outside of the CDC) have created health indeces to rank general health of states, but they often use alternative data sources and/or independent weighting of variables to do this. Thus, the purpose of this analysis is to see the general trends/output of BRFSS data in particular and see if it is a good method of data collection and representation of US general health."
   ]
  },
  {
   "cell_type": "markdown",
   "metadata": {},
   "source": [
    "<a id='research_question'></a>\n",
    "# Research Question"
   ]
  },
  {
   "cell_type": "markdown",
   "metadata": {},
   "source": [
    "How do different US states compare in terms of health? How well can BRFSS data predict the overall health ranking of different states based on various factors such as obesity rates, physical activity levels, and vaccinations rates compared to other known research?"
   ]
  },
  {
   "cell_type": "markdown",
   "metadata": {},
   "source": [
    "<a id='background'></a>\n",
    "\n",
    "## Background & Prior Work"
   ]
  },
  {
   "cell_type": "markdown",
   "metadata": {},
   "source": [
    "\n",
    "With the rise of COVID-19 and changes in policymaking and regulation oversight of health-related activities and issues, there has been more noticeable differences in the quality of health across different states in the United States. However, due to high variability and reliability in general statements, there is not a clear predictor or identification of what contributes to these differences, and/or how certain states might truly compare to one another. There have been numerous studies that identify specific topics of interest such as smoking or obesity, but there has been little to no work comparing the general state of health across different states.\n",
    "\n",
    "The most notable work done to compare state health is “America’s Health Rankings” which takes a number of variables with the general categories being: Socioeconomic factors, clinical care, physical health, and behaviors to determine health outcomes [^1]. With this data, they have created a general ranking system across different states in the US to compare levels of different health outcomes with an emphasis on obesity, mental distress, teen suicide, and low birthweight [^2]. However, as reports like this are heavily focused on particular issues, there is not a clear general ranking/differentiation on the overall state of health between states, making it difficult to determine what or how some may be “healthier” than others by having greater general health outcomes.\n",
    "\n",
    "[^1]https://www.americashealthrankings.org/about/methodology/introduction\n",
    "[^2]https://www.americashealthrankings.org/ \n",
    "\n"
   ]
  },
  {
   "cell_type": "markdown",
   "metadata": {},
   "source": [
    "# Hypothesis\n"
   ]
  },
  {
   "cell_type": "markdown",
   "metadata": {},
   "source": [
    "States with lower rates of negative health behaviors (obesity, smoking, etc.) and more socioeconomic stability (i.e. lower poverty rate, lower crime rate, greater health insurance coverage, etc.) will have better overall health outcomes as indicated by life expectancy and general disease rates. States with higher rates of behaviors/lifestyle indicators like smoking and obesity and/or indicators such as higher rates of crime and poverty are expected to have worse health outcomes. For predictive modeling, this is expected to be reflected by higher (better) scores for improved levels of indicators."
   ]
  },
  {
   "cell_type": "markdown",
   "metadata": {},
   "source": [
    "# Dataset(s)"
   ]
  },
  {
   "cell_type": "markdown",
   "metadata": {},
   "source": [
    "- Dataset Name: BRFSS 2021 Survey Data\n",
    "- Link to the dataset: https://www.cdc.gov/brfss/annual_data/annual_2021.html\n",
    "- Number of observations: 438,693\n",
    "\n",
    "The BRFSS (Behavioral Risk Factor Surveillance System) is a survey conducted across the United States that gathers data across a number of factors including social behavior, lifestyle, nutrition, socioeconomic information, etc. This data is specifically only information gathered from 2021.\n",
    "\n",
    "- Dataset Name: BRFSS 2021 Codebook\n",
    "- Link to the dataset: https://www.cdc.gov/brfss/annual_data/2021/pdf/codebook21_llcp-v2-508.pdf\n",
    "- Number of observations: N/A\n",
    "\n",
    "This is a PDF of the codebook for the BRFSS 2021 survey data. It is being used to scrape information about the variables and optimize data cleaning of the BRFSS survey data.\n",
    "\n",
    "The Codebook data will be used to create a dataframe that will be used to identify data irrelevant to our research interest (such as recordkeeping information) and remove unnecessary variables/columns from the survey dataset.\n",
    "\n",
    "- Dataset Name: ArcGIS States Shapefile\n",
    "- Link to the dataset:\n",
    "https://hub.arcgis.com/datasets/1b02c87f62d24508970dc1a6df80c98e/explore\n",
    "- Number of observations: 51\n",
    "\n",
    "This is a shapefile dataset for states in the United States. It is being utilized to help create geospatial visualizations to better track general trends of health indicators and the health index of the United States."
   ]
  },
  {
   "cell_type": "markdown",
   "metadata": {},
   "source": [
    "# Setup"
   ]
  },
  {
   "cell_type": "code",
   "execution_count": 1,
   "metadata": {},
   "outputs": [],
   "source": [
    "import fitz\n",
    "import pandas as pd\n",
    "import numpy as np\n",
    "import seaborn as sns\n",
    "import matplotlib.pyplot as plt\n",
    "\n",
    "import re\n",
    "import string\n",
    "import geopandas as gpd\n",
    "\n",
    "from sklearn.preprocessing import StandardScaler\n",
    "from sklearn.model_selection import train_test_split\n",
    "from sklearn.decomposition import PCA\n",
    "from sklearn.impute import SimpleImputer"
   ]
  },
  {
   "cell_type": "markdown",
   "metadata": {},
   "source": [
    "### BRFSS 2021 Survey Data"
   ]
  },
  {
   "cell_type": "code",
   "execution_count": 2,
   "metadata": {},
   "outputs": [],
   "source": [
    "# Hiding performance warning error that appears due to file type being imported\n",
    "import warnings\n",
    "warnings.simplefilter(action='ignore', category=pd.errors.PerformanceWarning)\n",
    "\n",
    "# Importing data\n",
    "brfss = pd.read_sas(\"./data/LLCP2021.XPT\")"
   ]
  },
  {
   "cell_type": "code",
   "execution_count": 3,
   "metadata": {},
   "outputs": [
    {
     "data": {
      "text/html": [
       "<div>\n",
       "<style scoped>\n",
       "    .dataframe tbody tr th:only-of-type {\n",
       "        vertical-align: middle;\n",
       "    }\n",
       "\n",
       "    .dataframe tbody tr th {\n",
       "        vertical-align: top;\n",
       "    }\n",
       "\n",
       "    .dataframe thead th {\n",
       "        text-align: right;\n",
       "    }\n",
       "</style>\n",
       "<table border=\"1\" class=\"dataframe\">\n",
       "  <thead>\n",
       "    <tr style=\"text-align: right;\">\n",
       "      <th></th>\n",
       "      <th>_STATE</th>\n",
       "      <th>FMONTH</th>\n",
       "      <th>IDATE</th>\n",
       "      <th>IMONTH</th>\n",
       "      <th>IDAY</th>\n",
       "      <th>IYEAR</th>\n",
       "      <th>DISPCODE</th>\n",
       "      <th>SEQNO</th>\n",
       "      <th>_PSU</th>\n",
       "      <th>CTELENM1</th>\n",
       "      <th>...</th>\n",
       "      <th>_FRTRES1</th>\n",
       "      <th>_VEGRES1</th>\n",
       "      <th>_FRUTSU1</th>\n",
       "      <th>_VEGESU1</th>\n",
       "      <th>_FRTLT1A</th>\n",
       "      <th>_VEGLT1A</th>\n",
       "      <th>_FRT16A</th>\n",
       "      <th>_VEG23A</th>\n",
       "      <th>_FRUITE1</th>\n",
       "      <th>_VEGETE1</th>\n",
       "    </tr>\n",
       "  </thead>\n",
       "  <tbody>\n",
       "    <tr>\n",
       "      <th>0</th>\n",
       "      <td>1.0</td>\n",
       "      <td>1.0</td>\n",
       "      <td>b'01192021'</td>\n",
       "      <td>b'01'</td>\n",
       "      <td>b'19'</td>\n",
       "      <td>b'2021'</td>\n",
       "      <td>1100.0</td>\n",
       "      <td>b'2021000001'</td>\n",
       "      <td>2.021000e+09</td>\n",
       "      <td>1.0</td>\n",
       "      <td>...</td>\n",
       "      <td>1.0</td>\n",
       "      <td>1.0</td>\n",
       "      <td>100.0</td>\n",
       "      <td>214.0</td>\n",
       "      <td>1.0</td>\n",
       "      <td>1.0</td>\n",
       "      <td>1.0</td>\n",
       "      <td>1.0</td>\n",
       "      <td>5.397605e-79</td>\n",
       "      <td>5.397605e-79</td>\n",
       "    </tr>\n",
       "    <tr>\n",
       "      <th>1</th>\n",
       "      <td>1.0</td>\n",
       "      <td>1.0</td>\n",
       "      <td>b'01212021'</td>\n",
       "      <td>b'01'</td>\n",
       "      <td>b'21'</td>\n",
       "      <td>b'2021'</td>\n",
       "      <td>1100.0</td>\n",
       "      <td>b'2021000002'</td>\n",
       "      <td>2.021000e+09</td>\n",
       "      <td>1.0</td>\n",
       "      <td>...</td>\n",
       "      <td>1.0</td>\n",
       "      <td>1.0</td>\n",
       "      <td>100.0</td>\n",
       "      <td>128.0</td>\n",
       "      <td>1.0</td>\n",
       "      <td>1.0</td>\n",
       "      <td>1.0</td>\n",
       "      <td>1.0</td>\n",
       "      <td>5.397605e-79</td>\n",
       "      <td>5.397605e-79</td>\n",
       "    </tr>\n",
       "    <tr>\n",
       "      <th>2</th>\n",
       "      <td>1.0</td>\n",
       "      <td>1.0</td>\n",
       "      <td>b'01212021'</td>\n",
       "      <td>b'01'</td>\n",
       "      <td>b'21'</td>\n",
       "      <td>b'2021'</td>\n",
       "      <td>1100.0</td>\n",
       "      <td>b'2021000003'</td>\n",
       "      <td>2.021000e+09</td>\n",
       "      <td>1.0</td>\n",
       "      <td>...</td>\n",
       "      <td>1.0</td>\n",
       "      <td>1.0</td>\n",
       "      <td>100.0</td>\n",
       "      <td>71.0</td>\n",
       "      <td>1.0</td>\n",
       "      <td>2.0</td>\n",
       "      <td>1.0</td>\n",
       "      <td>1.0</td>\n",
       "      <td>5.397605e-79</td>\n",
       "      <td>5.397605e-79</td>\n",
       "    </tr>\n",
       "    <tr>\n",
       "      <th>3</th>\n",
       "      <td>1.0</td>\n",
       "      <td>1.0</td>\n",
       "      <td>b'01172021'</td>\n",
       "      <td>b'01'</td>\n",
       "      <td>b'17'</td>\n",
       "      <td>b'2021'</td>\n",
       "      <td>1100.0</td>\n",
       "      <td>b'2021000004'</td>\n",
       "      <td>2.021000e+09</td>\n",
       "      <td>1.0</td>\n",
       "      <td>...</td>\n",
       "      <td>1.0</td>\n",
       "      <td>1.0</td>\n",
       "      <td>114.0</td>\n",
       "      <td>165.0</td>\n",
       "      <td>1.0</td>\n",
       "      <td>1.0</td>\n",
       "      <td>1.0</td>\n",
       "      <td>1.0</td>\n",
       "      <td>5.397605e-79</td>\n",
       "      <td>5.397605e-79</td>\n",
       "    </tr>\n",
       "    <tr>\n",
       "      <th>4</th>\n",
       "      <td>1.0</td>\n",
       "      <td>1.0</td>\n",
       "      <td>b'01152021'</td>\n",
       "      <td>b'01'</td>\n",
       "      <td>b'15'</td>\n",
       "      <td>b'2021'</td>\n",
       "      <td>1100.0</td>\n",
       "      <td>b'2021000005'</td>\n",
       "      <td>2.021000e+09</td>\n",
       "      <td>1.0</td>\n",
       "      <td>...</td>\n",
       "      <td>1.0</td>\n",
       "      <td>1.0</td>\n",
       "      <td>100.0</td>\n",
       "      <td>258.0</td>\n",
       "      <td>1.0</td>\n",
       "      <td>1.0</td>\n",
       "      <td>1.0</td>\n",
       "      <td>1.0</td>\n",
       "      <td>5.397605e-79</td>\n",
       "      <td>5.397605e-79</td>\n",
       "    </tr>\n",
       "  </tbody>\n",
       "</table>\n",
       "<p>5 rows × 303 columns</p>\n",
       "</div>"
      ],
      "text/plain": [
       "   _STATE  FMONTH        IDATE IMONTH   IDAY    IYEAR  DISPCODE  \\\n",
       "0     1.0     1.0  b'01192021'  b'01'  b'19'  b'2021'    1100.0   \n",
       "1     1.0     1.0  b'01212021'  b'01'  b'21'  b'2021'    1100.0   \n",
       "2     1.0     1.0  b'01212021'  b'01'  b'21'  b'2021'    1100.0   \n",
       "3     1.0     1.0  b'01172021'  b'01'  b'17'  b'2021'    1100.0   \n",
       "4     1.0     1.0  b'01152021'  b'01'  b'15'  b'2021'    1100.0   \n",
       "\n",
       "           SEQNO          _PSU  CTELENM1  ...  _FRTRES1  _VEGRES1  _FRUTSU1  \\\n",
       "0  b'2021000001'  2.021000e+09       1.0  ...       1.0       1.0     100.0   \n",
       "1  b'2021000002'  2.021000e+09       1.0  ...       1.0       1.0     100.0   \n",
       "2  b'2021000003'  2.021000e+09       1.0  ...       1.0       1.0     100.0   \n",
       "3  b'2021000004'  2.021000e+09       1.0  ...       1.0       1.0     114.0   \n",
       "4  b'2021000005'  2.021000e+09       1.0  ...       1.0       1.0     100.0   \n",
       "\n",
       "   _VEGESU1  _FRTLT1A  _VEGLT1A  _FRT16A  _VEG23A      _FRUITE1      _VEGETE1  \n",
       "0     214.0       1.0       1.0      1.0      1.0  5.397605e-79  5.397605e-79  \n",
       "1     128.0       1.0       1.0      1.0      1.0  5.397605e-79  5.397605e-79  \n",
       "2      71.0       1.0       2.0      1.0      1.0  5.397605e-79  5.397605e-79  \n",
       "3     165.0       1.0       1.0      1.0      1.0  5.397605e-79  5.397605e-79  \n",
       "4     258.0       1.0       1.0      1.0      1.0  5.397605e-79  5.397605e-79  \n",
       "\n",
       "[5 rows x 303 columns]"
      ]
     },
     "execution_count": 3,
     "metadata": {},
     "output_type": "execute_result"
    }
   ],
   "source": [
    "brfss.head()"
   ]
  },
  {
   "cell_type": "code",
   "execution_count": 4,
   "metadata": {},
   "outputs": [
    {
     "data": {
      "text/plain": [
       "(438693, 303)"
      ]
     },
     "execution_count": 4,
     "metadata": {},
     "output_type": "execute_result"
    }
   ],
   "source": [
    "brfss.shape"
   ]
  },
  {
   "cell_type": "markdown",
   "metadata": {},
   "source": [
    "### Codebook Data"
   ]
  },
  {
   "cell_type": "code",
   "execution_count": 5,
   "metadata": {},
   "outputs": [],
   "source": [
    "# Creating an empty dataframe with variable column, question column for reference, section for categorization\n",
    "df = pd.DataFrame(columns=['variable','question','section'])"
   ]
  },
  {
   "cell_type": "code",
   "execution_count": 6,
   "metadata": {},
   "outputs": [
    {
     "data": {
      "text/plain": [
       "' \\n \\n \\n \\n \\n \\n \\n \\n \\n   \\n \\n \\n \\n \\n  \\n \\n \\n \\n \\n \\n \\n \\n  \\n \\n  \\n \\n \\n \\n \\n \\n \\n \\n \\n \\n \\n \\n \\n \\n \\n \\n \\n \\n \\n \\n  \\n \\n \\n \\n \\n \\n \\n \\n \\n \\n \\n \\n \\n \\n \\n \\n \\n \\n \\n \\n \\n \\n \\n \\n \\n \\n \\n \\n \\n \\n \\n \\n \\n \\n \\n \\n \\n \\n \\n \\n \\n \\n \\n \\n \\n \\n \\n \\n \\n \\n \\n \\n \\n \\n \\n \\n \\n \\n \\n \\n \\n \\n \\n \\n \\n \\n \\n \\n \\n \\n \\n \\n \\n \\n \\n \\n \\n \\n \\n  \\n \\n  \\n \\n \\n \\n \\n \\n \\n \\n \\n \\n \\n \\n \\n  \\n \\n \\n \\n \\n \\n \\n \\n \\n \\n \\n \\n \\n \\n \\n \\n \\n \\n \\n \\n \\n \\n \\n \\n \\n \\n \\n \\n \\n \\n \\n \\n \\n \\n \\n \\n \\n \\n \\n \\n \\n \\n \\n \\n \\n \\nLLCP 2021 Codebook Report \\nOverall version data \\nLabel: Number of Adults in Household \\nSection Name: Land Line Introduction \\nSection Number: 0 \\nQuestion Number: 8 \\nColumn: 70-71 \\nType of Variable: Num \\nSAS Variable Name: NUMADULT \\nQuestion Prologue: Variable only on the land line survey \\nQuestion: \\nI need to randomly select one adult who lives in your household to be interviewed. Excluding adults living away \\nfrom home, such as students away at college, how many members of your household, including yourself, are 18 years of \\nage or older? \\nValue \\nValue Label \\nFrequency \\nPercentage \\nWeighted \\nPercentage \\n1 \\nNumber of adults in the household—Go to LL.09, \\nLANDSEX \\n49,849 \\n42.33 \\n26.77 \\n2 \\nNumber of adults in the household—Go to LL.10, \\nNUMMEN \\n55,498 \\n47.13 \\n49.80 \\n3 \\nNumber of adults in the household—Go to LL.10, \\nNUMMEN \\n8,907 \\n7.56 \\n15.03 \\n4 \\nNumber of adults in the household—Go to LL.10, \\nNUMMEN \\n2,646 \\n2.25 \\n6.29 \\n5 \\nNumber of adults in the household—Go to LL.10, \\nNUMMEN \\n621 \\n0.53 \\n1.54 \\n6 - 99 \\n6 or more—Go to LL.10, NUMMEN \\n246 \\n0.21 \\n0.56 \\nBLANK \\nMissing \\nNotes: QSTVER >= 20 \\n320,926 \\n. \\n. \\nLabel: Are you male or female? \\nSection Name: Land Line Introduction \\nSection Number: 0 \\nQuestion Number: 9 \\nColumn: 72 \\nType of Variable: Num \\nSAS Variable Name: LANDSEX \\nQuestion Prologue: \\nQuestion: Are you male or female? \\nValue \\nValue Label \\nFrequency \\nPercentage \\nWeighted \\nPercentage \\n1 \\nMale—Go to C01.01, GENHLTH \\n15,418 \\n30.93 \\n31.25 \\n2 \\nFemale—Go to C01.01, GENHLTH \\n34,411 \\n69.03 \\n68.73 \\n7 \\nDon’t know/Not Sure—Terminate Phone Call \\n8 \\n0.02 \\n0.01 \\n9 \\nRefused—Terminate Phone Call \\n9 \\n0.02 \\n0.01 \\nBLANK \\nNot asked or Missing \\nNotes: QSTVER >= 20; or if LL.08, NUMADULT, is \\ngreater than 1 \\n388,847 \\n. \\n. \\n12 of 164 \\nAugust 12, 2022 \\n'"
      ]
     },
     "execution_count": 6,
     "metadata": {},
     "output_type": "execute_result"
    }
   ],
   "source": [
    "# Viewing sample text output to find how to identify the variable, question, and section identification from string\n",
    "with fitz.open(\"./data/brfss_codebook.pdf\") as doc:\n",
    "    text = []\n",
    "    for page in doc:\n",
    "        text.append(page.get_text())\n",
    "\n",
    "text[11]"
   ]
  },
  {
   "cell_type": "code",
   "execution_count": 7,
   "metadata": {},
   "outputs": [],
   "source": [
    "# Cleaning the question identity and extracting variable (brfss column) and section names\n",
    "with fitz.open(\"./data/brfss_codebook.pdf\") as doc:\n",
    "    questions = []\n",
    "    variable = []\n",
    "    section = []\n",
    "    for page in doc:\n",
    "        label_lst = re.findall('\\nLabel: (.+?) \\n',page.get_text())\n",
    "        for string1 in label_lst:\n",
    "            string1 = string1.lower()\n",
    "            string1.translate(str.maketrans('', '', string.punctuation))\n",
    "            questions.append(string1)\n",
    "        varlst = re.findall('\\nSAS Variable Name: (.+?) \\n',page.get_text())\n",
    "        for string2 in varlst:\n",
    "            variable.append(string2)\n",
    "        sectionlst = re.findall('\\nSection Name: (.+?) \\n',page.get_text())\n",
    "        for string3 in sectionlst:\n",
    "            section.append(string3)"
   ]
  },
  {
   "cell_type": "code",
   "execution_count": 8,
   "metadata": {},
   "outputs": [],
   "source": [
    "# Setting output values in dataframe\n",
    "df['variable'], df['question'], df['section'] = variable, questions, section"
   ]
  },
  {
   "cell_type": "code",
   "execution_count": 9,
   "metadata": {},
   "outputs": [
    {
     "data": {
      "text/html": [
       "<div>\n",
       "<style scoped>\n",
       "    .dataframe tbody tr th:only-of-type {\n",
       "        vertical-align: middle;\n",
       "    }\n",
       "\n",
       "    .dataframe tbody tr th {\n",
       "        vertical-align: top;\n",
       "    }\n",
       "\n",
       "    .dataframe thead th {\n",
       "        text-align: right;\n",
       "    }\n",
       "</style>\n",
       "<table border=\"1\" class=\"dataframe\">\n",
       "  <thead>\n",
       "    <tr style=\"text-align: right;\">\n",
       "      <th></th>\n",
       "      <th>variable</th>\n",
       "      <th>question</th>\n",
       "      <th>section</th>\n",
       "    </tr>\n",
       "  </thead>\n",
       "  <tbody>\n",
       "    <tr>\n",
       "      <th>0</th>\n",
       "      <td>_STATE</td>\n",
       "      <td>state fips code</td>\n",
       "      <td>Record Identification</td>\n",
       "    </tr>\n",
       "    <tr>\n",
       "      <th>1</th>\n",
       "      <td>_STATE</td>\n",
       "      <td>state fips code</td>\n",
       "      <td>Record Identification</td>\n",
       "    </tr>\n",
       "    <tr>\n",
       "      <th>2</th>\n",
       "      <td>FMONTH</td>\n",
       "      <td>file month</td>\n",
       "      <td>Record Identification</td>\n",
       "    </tr>\n",
       "    <tr>\n",
       "      <th>3</th>\n",
       "      <td>IDATE</td>\n",
       "      <td>interview date</td>\n",
       "      <td>Record Identification</td>\n",
       "    </tr>\n",
       "    <tr>\n",
       "      <th>4</th>\n",
       "      <td>IMONTH</td>\n",
       "      <td>interview month</td>\n",
       "      <td>Record Identification</td>\n",
       "    </tr>\n",
       "  </tbody>\n",
       "</table>\n",
       "</div>"
      ],
      "text/plain": [
       "  variable         question                section\n",
       "0   _STATE  state fips code  Record Identification\n",
       "1   _STATE  state fips code  Record Identification\n",
       "2   FMONTH       file month  Record Identification\n",
       "3    IDATE   interview date  Record Identification\n",
       "4   IMONTH  interview month  Record Identification"
      ]
     },
     "execution_count": 9,
     "metadata": {},
     "output_type": "execute_result"
    }
   ],
   "source": [
    "df.head()"
   ]
  },
  {
   "cell_type": "code",
   "execution_count": 10,
   "metadata": {},
   "outputs": [
    {
     "data": {
      "text/plain": [
       "(305, 3)"
      ]
     },
     "execution_count": 10,
     "metadata": {},
     "output_type": "execute_result"
    }
   ],
   "source": [
    "df.shape"
   ]
  },
  {
   "cell_type": "markdown",
   "metadata": {},
   "source": [
    "### Creating State Dataframe for merging"
   ]
  },
  {
   "cell_type": "code",
   "execution_count": 11,
   "metadata": {},
   "outputs": [],
   "source": [
    "# Accessing text for '_STATE' variable to strip state codes\n",
    "text[1]\n",
    "\n",
    "# Stripping\n",
    "state_1 = re.findall(\"\\n(\\d+)\\s+([A-Za-z\\s]+)\\s\",text[1])\n",
    "state_2 = re.findall(\"\\n(\\d+)\\s+([A-Za-z\\s]+)\\s\",text[2])\n",
    "\n",
    "# Combining pages\n",
    "state_codes = state_1 + state_2\n",
    "\n",
    "# Converting into lists to use for dataframe\n",
    "numbers = [item[0] for item in state_codes]\n",
    "float_numbers = [float(num) for num in numbers]\n",
    "state_names = [item[1].strip().lower() for item in state_codes]"
   ]
  },
  {
   "cell_type": "code",
   "execution_count": 12,
   "metadata": {},
   "outputs": [],
   "source": [
    "# Creating empty dataframe\n",
    "states = pd.DataFrame(columns=['_STATE','State_Name'])\n",
    "\n",
    "# Setting values\n",
    "states['_STATE'] = float_numbers\n",
    "states['State_Name'] = state_names"
   ]
  },
  {
   "cell_type": "code",
   "execution_count": 13,
   "metadata": {},
   "outputs": [
    {
     "data": {
      "text/html": [
       "<div>\n",
       "<style scoped>\n",
       "    .dataframe tbody tr th:only-of-type {\n",
       "        vertical-align: middle;\n",
       "    }\n",
       "\n",
       "    .dataframe tbody tr th {\n",
       "        vertical-align: top;\n",
       "    }\n",
       "\n",
       "    .dataframe thead th {\n",
       "        text-align: right;\n",
       "    }\n",
       "</style>\n",
       "<table border=\"1\" class=\"dataframe\">\n",
       "  <thead>\n",
       "    <tr style=\"text-align: right;\">\n",
       "      <th></th>\n",
       "      <th>_STATE</th>\n",
       "      <th>State_Name</th>\n",
       "    </tr>\n",
       "  </thead>\n",
       "  <tbody>\n",
       "    <tr>\n",
       "      <th>0</th>\n",
       "      <td>1.0</td>\n",
       "      <td>alabama</td>\n",
       "    </tr>\n",
       "    <tr>\n",
       "      <th>1</th>\n",
       "      <td>2.0</td>\n",
       "      <td>alaska</td>\n",
       "    </tr>\n",
       "    <tr>\n",
       "      <th>2</th>\n",
       "      <td>4.0</td>\n",
       "      <td>arizona</td>\n",
       "    </tr>\n",
       "    <tr>\n",
       "      <th>3</th>\n",
       "      <td>5.0</td>\n",
       "      <td>arkansas</td>\n",
       "    </tr>\n",
       "    <tr>\n",
       "      <th>4</th>\n",
       "      <td>6.0</td>\n",
       "      <td>california</td>\n",
       "    </tr>\n",
       "  </tbody>\n",
       "</table>\n",
       "</div>"
      ],
      "text/plain": [
       "   _STATE  State_Name\n",
       "0     1.0     alabama\n",
       "1     2.0      alaska\n",
       "2     4.0     arizona\n",
       "3     5.0    arkansas\n",
       "4     6.0  california"
      ]
     },
     "execution_count": 13,
     "metadata": {},
     "output_type": "execute_result"
    }
   ],
   "source": [
    "states.head()"
   ]
  },
  {
   "cell_type": "markdown",
   "metadata": {},
   "source": [
    "### Geopandas Dataframe of USA data"
   ]
  },
  {
   "cell_type": "code",
   "execution_count": 15,
   "metadata": {},
   "outputs": [],
   "source": [
    "map_data = gpd.read_file('./geodata/States_shapefile.shx')"
   ]
  },
  {
   "cell_type": "code",
   "execution_count": 16,
   "metadata": {},
   "outputs": [
    {
     "data": {
      "text/html": [
       "<div>\n",
       "<style scoped>\n",
       "    .dataframe tbody tr th:only-of-type {\n",
       "        vertical-align: middle;\n",
       "    }\n",
       "\n",
       "    .dataframe tbody tr th {\n",
       "        vertical-align: top;\n",
       "    }\n",
       "\n",
       "    .dataframe thead th {\n",
       "        text-align: right;\n",
       "    }\n",
       "</style>\n",
       "<table border=\"1\" class=\"dataframe\">\n",
       "  <thead>\n",
       "    <tr style=\"text-align: right;\">\n",
       "      <th></th>\n",
       "      <th>FID</th>\n",
       "      <th>Program</th>\n",
       "      <th>State_Code</th>\n",
       "      <th>State_Name</th>\n",
       "      <th>Flowing_St</th>\n",
       "      <th>FID_1</th>\n",
       "      <th>geometry</th>\n",
       "    </tr>\n",
       "  </thead>\n",
       "  <tbody>\n",
       "    <tr>\n",
       "      <th>0</th>\n",
       "      <td>1</td>\n",
       "      <td>PERMIT TRACKING</td>\n",
       "      <td>AL</td>\n",
       "      <td>ALABAMA</td>\n",
       "      <td>F</td>\n",
       "      <td>919</td>\n",
       "      <td>POLYGON ((-85.07007 31.98070, -85.11515 31.907...</td>\n",
       "    </tr>\n",
       "    <tr>\n",
       "      <th>1</th>\n",
       "      <td>2</td>\n",
       "      <td>NaN</td>\n",
       "      <td>AK</td>\n",
       "      <td>ALASKA</td>\n",
       "      <td>N</td>\n",
       "      <td>920</td>\n",
       "      <td>MULTIPOLYGON (((-161.33379 58.73325, -161.3824...</td>\n",
       "    </tr>\n",
       "    <tr>\n",
       "      <th>2</th>\n",
       "      <td>3</td>\n",
       "      <td>AZURITE</td>\n",
       "      <td>AZ</td>\n",
       "      <td>ARIZONA</td>\n",
       "      <td>F</td>\n",
       "      <td>921</td>\n",
       "      <td>POLYGON ((-114.52063 33.02771, -114.55909 33.0...</td>\n",
       "    </tr>\n",
       "    <tr>\n",
       "      <th>3</th>\n",
       "      <td>4</td>\n",
       "      <td>PDS</td>\n",
       "      <td>AR</td>\n",
       "      <td>ARKANSAS</td>\n",
       "      <td>F</td>\n",
       "      <td>922</td>\n",
       "      <td>POLYGON ((-94.46169 34.19677, -94.45262 34.508...</td>\n",
       "    </tr>\n",
       "    <tr>\n",
       "      <th>4</th>\n",
       "      <td>5</td>\n",
       "      <td>NaN</td>\n",
       "      <td>CA</td>\n",
       "      <td>CALIFORNIA</td>\n",
       "      <td>N</td>\n",
       "      <td>923</td>\n",
       "      <td>MULTIPOLYGON (((-121.66522 38.16929, -121.7823...</td>\n",
       "    </tr>\n",
       "  </tbody>\n",
       "</table>\n",
       "</div>"
      ],
      "text/plain": [
       "   FID          Program State_Code  State_Name Flowing_St  FID_1  \\\n",
       "0    1  PERMIT TRACKING         AL     ALABAMA          F    919   \n",
       "1    2              NaN         AK      ALASKA          N    920   \n",
       "2    3          AZURITE         AZ     ARIZONA          F    921   \n",
       "3    4              PDS         AR    ARKANSAS          F    922   \n",
       "4    5              NaN         CA  CALIFORNIA          N    923   \n",
       "\n",
       "                                            geometry  \n",
       "0  POLYGON ((-85.07007 31.98070, -85.11515 31.907...  \n",
       "1  MULTIPOLYGON (((-161.33379 58.73325, -161.3824...  \n",
       "2  POLYGON ((-114.52063 33.02771, -114.55909 33.0...  \n",
       "3  POLYGON ((-94.46169 34.19677, -94.45262 34.508...  \n",
       "4  MULTIPOLYGON (((-121.66522 38.16929, -121.7823...  "
      ]
     },
     "execution_count": 16,
     "metadata": {},
     "output_type": "execute_result"
    }
   ],
   "source": [
    "map_data.head()"
   ]
  },
  {
   "cell_type": "markdown",
   "metadata": {},
   "source": [
    "# Data Cleaning"
   ]
  },
  {
   "cell_type": "markdown",
   "metadata": {},
   "source": [
    "Describe your data cleaning steps here."
   ]
  },
  {
   "cell_type": "markdown",
   "metadata": {},
   "source": [
    "### Removing variables from df (categories) and BRFSS datasets"
   ]
  },
  {
   "cell_type": "code",
   "execution_count": 17,
   "metadata": {},
   "outputs": [
    {
     "data": {
      "text/plain": [
       "array(['Record Identification', 'Land Line Introduction',\n",
       "       'Cell Phone Introduction', 'Respondent Sex', 'Health Status',\n",
       "       'Healthy Days', 'Health Care Access', 'Exercise',\n",
       "       'Hypertension Awareness', 'Cholesterol Awareness',\n",
       "       'Chronic Health Conditions', 'Arthritis', 'Demographics',\n",
       "       'Disability', 'Tobacco Use', 'Alcohol Consumption', 'Immunization',\n",
       "       'HIV/AIDS', 'Fruits & Vegetables', 'Pre-Diabetes', 'Diabetes',\n",
       "       'ME/CFS', 'Hepatitis Treatment', 'HPV Vaccination',\n",
       "       'Tetanus Diphtheria (Tdap) (Adults)', 'Shingles Vaccination',\n",
       "       'Lung Cancer Screening', 'Breast and Cervical Cancer Screening',\n",
       "       'Prostate Cancer Screening', 'Colorectal Cancer Screening',\n",
       "       'Cancer Survivorship: Type of Cancer',\n",
       "       'Cancer Survivorship: Course of Treatment',\n",
       "       'Cancer Survivorship: Pain Management',\n",
       "       'Home/ Self-measured Blood Pressure',\n",
       "       'Sodium or Salt-Related Behavior', 'Cognitive Decline',\n",
       "       'Caregiver', 'Adverse Childhood Experiences', 'Marijuana Use',\n",
       "       'Tobacco Cessation', 'Firearm Safety', 'Random Child Selection',\n",
       "       'Childhood Asthma Prevalence', 'Sex at Birth',\n",
       "       'Sexual Orientation and Gender Identity (SOGI)',\n",
       "       'Questionnaire Version', 'Questionnaire Language', 'Urban Rural',\n",
       "       'Weighting Variables', 'Child Demographic Variables',\n",
       "       'Child Weighting Variables', 'Calculated Variables',\n",
       "       'Calculated Race Variables'], dtype=object)"
      ]
     },
     "execution_count": 17,
     "metadata": {},
     "output_type": "execute_result"
    }
   ],
   "source": [
    "# Viewing unique section IDs to reference ones not of interest\n",
    "df['section'].unique()"
   ]
  },
  {
   "cell_type": "code",
   "execution_count": 18,
   "metadata": {},
   "outputs": [],
   "source": [
    "# List of categories not of interest\n",
    "drop_cat = ['Record Identification', 'Land Line Introduction',\n",
    "       'Cell Phone Introduction', 'Respondent Sex', 'Health Status',\n",
    "       'Healthy Days','ME/CFS','Lung Cancer Screening','Breast and Cervical Cancer Screening','Prostate Cancer Screening',\n",
    "           'Colorectal Cancer Screening','Cancer Survivorship: Type of Cancer',\n",
    "       'Cancer Survivorship: Course of Treatment',\n",
    "       'Cancer Survivorship: Pain Management',\n",
    "       'Home/ Self-measured Blood Pressure','Caregiver', 'Adverse Childhood Experiences','Tobacco Cessation', 'Firearm Safety', 'Random Child Selection',\n",
    "       'Childhood Asthma Prevalence', 'Sex at Birth',\n",
    "       'Sexual Orientation and Gender Identity (SOGI)',\n",
    "       'Questionnaire Version', 'Questionnaire Language', 'Urban Rural',\n",
    "       'Weighting Variables', 'Child Demographic Variables',\n",
    "       'Child Weighting Variables', 'Calculated Variables',\n",
    "       'Calculated Race Variables']\n",
    "\n",
    "# list of variables not of interest\n",
    "drop_var = ['BPHIGH6','CHOLCHK3','TOLDHI3','DIABAGE3','ARTHEXER','ARTHEDU','LMTJOIN3','ARTHDIS2',\n",
    "           'MARITAL','NUMHHOL3','NUMPHON3','CPDEMO1B','VETERAN3','PREGNANT','IMFVPLA2','HIVTSTD3','BLDSUGAR',\n",
    "            'FEETCHK3','DOCTDIAB','CHKHEMO3','FEETCHK','EYEEXAM1','DIABEYE','DIABEDU','PRIRHEPC','HPVADSHT','WTCHSALT','CDHOUSE',\n",
    "           'CDASSIST','CDHELP','CDSOCIAL','CDDISCUS','RSNMRJN2']\n",
    "\n",
    "# Creating a list of variables that match to above categories to create a list to drop from brfss dataframe\n",
    "drop_lst = []\n",
    "for index, row in df.iterrows():\n",
    "    for val in drop_cat:\n",
    "        if row['section'] == val:  # Replace 'column1' with the actual name of your column\n",
    "            drop_lst.append(row['variable'])\n",
    "\n",
    "drop_lst = drop_lst + drop_var\n",
    "\n",
    "# Removing state variable from dropping list to keep for identification\n",
    "drop_lst.remove('_STATE')\n",
    "drop_lst.remove('_STATE')"
   ]
  },
  {
   "cell_type": "code",
   "execution_count": 19,
   "metadata": {},
   "outputs": [],
   "source": [
    "# Dropping categories not of interest in df\n",
    "df = df[~df['section'].isin(drop_cat)]"
   ]
  },
  {
   "cell_type": "code",
   "execution_count": 20,
   "metadata": {},
   "outputs": [
    {
     "data": {
      "text/plain": [
       "array(['Health Care Access', 'Exercise', 'Hypertension Awareness',\n",
       "       'Cholesterol Awareness', 'Chronic Health Conditions', 'Arthritis',\n",
       "       'Demographics', 'Disability', 'Tobacco Use', 'Alcohol Consumption',\n",
       "       'Immunization', 'HIV/AIDS', 'Fruits & Vegetables', 'Pre-Diabetes',\n",
       "       'Diabetes', 'Hepatitis Treatment', 'HPV Vaccination',\n",
       "       'Tetanus Diphtheria (Tdap) (Adults)', 'Shingles Vaccination',\n",
       "       'Sodium or Salt-Related Behavior', 'Cognitive Decline',\n",
       "       'Marijuana Use'], dtype=object)"
      ]
     },
     "execution_count": 20,
     "metadata": {},
     "output_type": "execute_result"
    }
   ],
   "source": [
    "# Viewing unique section IDs to reference ones not of interest\n",
    "df['section'].unique()"
   ]
  },
  {
   "cell_type": "code",
   "execution_count": 21,
   "metadata": {},
   "outputs": [],
   "source": [
    "# Dropping columns not of interest\n",
    "brfss = brfss.drop(drop_lst,axis=1)"
   ]
  },
  {
   "cell_type": "markdown",
   "metadata": {},
   "source": [
    "For the '_STATE' variable, values of 66, 72, and 78 reference Guam, Puerto Rico, and the Virgin Islands respectively. Because we are focusing on the United States states' in particular, these observations will be dropped."
   ]
  },
  {
   "cell_type": "code",
   "execution_count": 22,
   "metadata": {},
   "outputs": [],
   "source": [
    "# values want to drop\n",
    "state_drop = [66,72,78]\n",
    "\n",
    "# dropping state values of 66,72,78\n",
    "brfss = brfss[~brfss['_STATE'].isin(state_drop)]"
   ]
  },
  {
   "cell_type": "code",
   "execution_count": 23,
   "metadata": {},
   "outputs": [
    {
     "data": {
      "text/html": [
       "<div>\n",
       "<style scoped>\n",
       "    .dataframe tbody tr th:only-of-type {\n",
       "        vertical-align: middle;\n",
       "    }\n",
       "\n",
       "    .dataframe tbody tr th {\n",
       "        vertical-align: top;\n",
       "    }\n",
       "\n",
       "    .dataframe thead th {\n",
       "        text-align: right;\n",
       "    }\n",
       "</style>\n",
       "<table border=\"1\" class=\"dataframe\">\n",
       "  <thead>\n",
       "    <tr style=\"text-align: right;\">\n",
       "      <th></th>\n",
       "      <th>_STATE</th>\n",
       "      <th>PRIMINSR</th>\n",
       "      <th>PERSDOC3</th>\n",
       "      <th>MEDCOST1</th>\n",
       "      <th>CHECKUP1</th>\n",
       "      <th>EXERANY2</th>\n",
       "      <th>BPMEDS</th>\n",
       "      <th>CHOLMED3</th>\n",
       "      <th>CVDINFR4</th>\n",
       "      <th>CVDCRHD4</th>\n",
       "      <th>...</th>\n",
       "      <th>HAVEHEPC</th>\n",
       "      <th>HAVEHEPB</th>\n",
       "      <th>MEDSHEPB</th>\n",
       "      <th>HPVADVC4</th>\n",
       "      <th>TETANUS1</th>\n",
       "      <th>SHINGLE2</th>\n",
       "      <th>DRADVISE</th>\n",
       "      <th>CIMEMLOS</th>\n",
       "      <th>MARIJAN1</th>\n",
       "      <th>USEMRJN3</th>\n",
       "    </tr>\n",
       "  </thead>\n",
       "  <tbody>\n",
       "    <tr>\n",
       "      <th>0</th>\n",
       "      <td>1.0</td>\n",
       "      <td>3.0</td>\n",
       "      <td>1.0</td>\n",
       "      <td>2.0</td>\n",
       "      <td>2.0</td>\n",
       "      <td>2.0</td>\n",
       "      <td>NaN</td>\n",
       "      <td>1.0</td>\n",
       "      <td>2.0</td>\n",
       "      <td>2.0</td>\n",
       "      <td>...</td>\n",
       "      <td>NaN</td>\n",
       "      <td>NaN</td>\n",
       "      <td>NaN</td>\n",
       "      <td>NaN</td>\n",
       "      <td>NaN</td>\n",
       "      <td>NaN</td>\n",
       "      <td>NaN</td>\n",
       "      <td>NaN</td>\n",
       "      <td>NaN</td>\n",
       "      <td>NaN</td>\n",
       "    </tr>\n",
       "    <tr>\n",
       "      <th>1</th>\n",
       "      <td>1.0</td>\n",
       "      <td>1.0</td>\n",
       "      <td>2.0</td>\n",
       "      <td>2.0</td>\n",
       "      <td>1.0</td>\n",
       "      <td>1.0</td>\n",
       "      <td>1.0</td>\n",
       "      <td>1.0</td>\n",
       "      <td>2.0</td>\n",
       "      <td>1.0</td>\n",
       "      <td>...</td>\n",
       "      <td>NaN</td>\n",
       "      <td>NaN</td>\n",
       "      <td>NaN</td>\n",
       "      <td>NaN</td>\n",
       "      <td>NaN</td>\n",
       "      <td>NaN</td>\n",
       "      <td>NaN</td>\n",
       "      <td>NaN</td>\n",
       "      <td>NaN</td>\n",
       "      <td>NaN</td>\n",
       "    </tr>\n",
       "    <tr>\n",
       "      <th>2</th>\n",
       "      <td>1.0</td>\n",
       "      <td>2.0</td>\n",
       "      <td>2.0</td>\n",
       "      <td>2.0</td>\n",
       "      <td>1.0</td>\n",
       "      <td>2.0</td>\n",
       "      <td>1.0</td>\n",
       "      <td>2.0</td>\n",
       "      <td>2.0</td>\n",
       "      <td>1.0</td>\n",
       "      <td>...</td>\n",
       "      <td>NaN</td>\n",
       "      <td>NaN</td>\n",
       "      <td>NaN</td>\n",
       "      <td>NaN</td>\n",
       "      <td>NaN</td>\n",
       "      <td>NaN</td>\n",
       "      <td>NaN</td>\n",
       "      <td>NaN</td>\n",
       "      <td>NaN</td>\n",
       "      <td>NaN</td>\n",
       "    </tr>\n",
       "    <tr>\n",
       "      <th>3</th>\n",
       "      <td>1.0</td>\n",
       "      <td>2.0</td>\n",
       "      <td>1.0</td>\n",
       "      <td>2.0</td>\n",
       "      <td>1.0</td>\n",
       "      <td>1.0</td>\n",
       "      <td>1.0</td>\n",
       "      <td>2.0</td>\n",
       "      <td>2.0</td>\n",
       "      <td>2.0</td>\n",
       "      <td>...</td>\n",
       "      <td>NaN</td>\n",
       "      <td>NaN</td>\n",
       "      <td>NaN</td>\n",
       "      <td>NaN</td>\n",
       "      <td>NaN</td>\n",
       "      <td>NaN</td>\n",
       "      <td>NaN</td>\n",
       "      <td>NaN</td>\n",
       "      <td>NaN</td>\n",
       "      <td>NaN</td>\n",
       "    </tr>\n",
       "    <tr>\n",
       "      <th>4</th>\n",
       "      <td>1.0</td>\n",
       "      <td>3.0</td>\n",
       "      <td>1.0</td>\n",
       "      <td>2.0</td>\n",
       "      <td>1.0</td>\n",
       "      <td>1.0</td>\n",
       "      <td>NaN</td>\n",
       "      <td>1.0</td>\n",
       "      <td>1.0</td>\n",
       "      <td>7.0</td>\n",
       "      <td>...</td>\n",
       "      <td>NaN</td>\n",
       "      <td>NaN</td>\n",
       "      <td>NaN</td>\n",
       "      <td>NaN</td>\n",
       "      <td>NaN</td>\n",
       "      <td>NaN</td>\n",
       "      <td>NaN</td>\n",
       "      <td>NaN</td>\n",
       "      <td>NaN</td>\n",
       "      <td>NaN</td>\n",
       "    </tr>\n",
       "  </tbody>\n",
       "</table>\n",
       "<p>5 rows × 67 columns</p>\n",
       "</div>"
      ],
      "text/plain": [
       "   _STATE  PRIMINSR  PERSDOC3  MEDCOST1  CHECKUP1  EXERANY2  BPMEDS  CHOLMED3  \\\n",
       "0     1.0       3.0       1.0       2.0       2.0       2.0     NaN       1.0   \n",
       "1     1.0       1.0       2.0       2.0       1.0       1.0     1.0       1.0   \n",
       "2     1.0       2.0       2.0       2.0       1.0       2.0     1.0       2.0   \n",
       "3     1.0       2.0       1.0       2.0       1.0       1.0     1.0       2.0   \n",
       "4     1.0       3.0       1.0       2.0       1.0       1.0     NaN       1.0   \n",
       "\n",
       "   CVDINFR4  CVDCRHD4  ...  HAVEHEPC  HAVEHEPB  MEDSHEPB  HPVADVC4  TETANUS1  \\\n",
       "0       2.0       2.0  ...       NaN       NaN       NaN       NaN       NaN   \n",
       "1       2.0       1.0  ...       NaN       NaN       NaN       NaN       NaN   \n",
       "2       2.0       1.0  ...       NaN       NaN       NaN       NaN       NaN   \n",
       "3       2.0       2.0  ...       NaN       NaN       NaN       NaN       NaN   \n",
       "4       1.0       7.0  ...       NaN       NaN       NaN       NaN       NaN   \n",
       "\n",
       "   SHINGLE2  DRADVISE  CIMEMLOS  MARIJAN1  USEMRJN3  \n",
       "0       NaN       NaN       NaN       NaN       NaN  \n",
       "1       NaN       NaN       NaN       NaN       NaN  \n",
       "2       NaN       NaN       NaN       NaN       NaN  \n",
       "3       NaN       NaN       NaN       NaN       NaN  \n",
       "4       NaN       NaN       NaN       NaN       NaN  \n",
       "\n",
       "[5 rows x 67 columns]"
      ]
     },
     "execution_count": 23,
     "metadata": {},
     "output_type": "execute_result"
    }
   ],
   "source": [
    "brfss.head()"
   ]
  },
  {
   "cell_type": "code",
   "execution_count": 24,
   "metadata": {},
   "outputs": [
    {
     "data": {
      "text/plain": [
       "(431639, 67)"
      ]
     },
     "execution_count": 24,
     "metadata": {},
     "output_type": "execute_result"
    }
   ],
   "source": [
    "brfss.shape"
   ]
  },
  {
   "cell_type": "markdown",
   "metadata": {},
   "source": [
    "### Standardizing State Names in Geodata"
   ]
  },
  {
   "cell_type": "code",
   "execution_count": 25,
   "metadata": {},
   "outputs": [
    {
     "data": {
      "text/html": [
       "<div>\n",
       "<style scoped>\n",
       "    .dataframe tbody tr th:only-of-type {\n",
       "        vertical-align: middle;\n",
       "    }\n",
       "\n",
       "    .dataframe tbody tr th {\n",
       "        vertical-align: top;\n",
       "    }\n",
       "\n",
       "    .dataframe thead th {\n",
       "        text-align: right;\n",
       "    }\n",
       "</style>\n",
       "<table border=\"1\" class=\"dataframe\">\n",
       "  <thead>\n",
       "    <tr style=\"text-align: right;\">\n",
       "      <th></th>\n",
       "      <th>FID</th>\n",
       "      <th>Program</th>\n",
       "      <th>State_Code</th>\n",
       "      <th>State_Name</th>\n",
       "      <th>Flowing_St</th>\n",
       "      <th>FID_1</th>\n",
       "      <th>geometry</th>\n",
       "    </tr>\n",
       "  </thead>\n",
       "  <tbody>\n",
       "    <tr>\n",
       "      <th>0</th>\n",
       "      <td>1</td>\n",
       "      <td>PERMIT TRACKING</td>\n",
       "      <td>AL</td>\n",
       "      <td>alabama</td>\n",
       "      <td>F</td>\n",
       "      <td>919</td>\n",
       "      <td>POLYGON ((-85.07007 31.98070, -85.11515 31.907...</td>\n",
       "    </tr>\n",
       "    <tr>\n",
       "      <th>1</th>\n",
       "      <td>2</td>\n",
       "      <td>NaN</td>\n",
       "      <td>AK</td>\n",
       "      <td>alaska</td>\n",
       "      <td>N</td>\n",
       "      <td>920</td>\n",
       "      <td>MULTIPOLYGON (((-161.33379 58.73325, -161.3824...</td>\n",
       "    </tr>\n",
       "    <tr>\n",
       "      <th>2</th>\n",
       "      <td>3</td>\n",
       "      <td>AZURITE</td>\n",
       "      <td>AZ</td>\n",
       "      <td>arizona</td>\n",
       "      <td>F</td>\n",
       "      <td>921</td>\n",
       "      <td>POLYGON ((-114.52063 33.02771, -114.55909 33.0...</td>\n",
       "    </tr>\n",
       "    <tr>\n",
       "      <th>3</th>\n",
       "      <td>4</td>\n",
       "      <td>PDS</td>\n",
       "      <td>AR</td>\n",
       "      <td>arkansas</td>\n",
       "      <td>F</td>\n",
       "      <td>922</td>\n",
       "      <td>POLYGON ((-94.46169 34.19677, -94.45262 34.508...</td>\n",
       "    </tr>\n",
       "    <tr>\n",
       "      <th>4</th>\n",
       "      <td>5</td>\n",
       "      <td>NaN</td>\n",
       "      <td>CA</td>\n",
       "      <td>california</td>\n",
       "      <td>N</td>\n",
       "      <td>923</td>\n",
       "      <td>MULTIPOLYGON (((-121.66522 38.16929, -121.7823...</td>\n",
       "    </tr>\n",
       "  </tbody>\n",
       "</table>\n",
       "</div>"
      ],
      "text/plain": [
       "   FID          Program State_Code  State_Name Flowing_St  FID_1  \\\n",
       "0    1  PERMIT TRACKING         AL     alabama          F    919   \n",
       "1    2              NaN         AK      alaska          N    920   \n",
       "2    3          AZURITE         AZ     arizona          F    921   \n",
       "3    4              PDS         AR    arkansas          F    922   \n",
       "4    5              NaN         CA  california          N    923   \n",
       "\n",
       "                                            geometry  \n",
       "0  POLYGON ((-85.07007 31.98070, -85.11515 31.907...  \n",
       "1  MULTIPOLYGON (((-161.33379 58.73325, -161.3824...  \n",
       "2  POLYGON ((-114.52063 33.02771, -114.55909 33.0...  \n",
       "3  POLYGON ((-94.46169 34.19677, -94.45262 34.508...  \n",
       "4  MULTIPOLYGON (((-121.66522 38.16929, -121.7823...  "
      ]
     },
     "execution_count": 25,
     "metadata": {},
     "output_type": "execute_result"
    }
   ],
   "source": [
    "map_data['State_Name'] = map_data['State_Name'].str.lower()\n",
    "\n",
    "map_data.head()"
   ]
  },
  {
   "cell_type": "markdown",
   "metadata": {},
   "source": [
    "### Merging State and BRFSS dataframes"
   ]
  },
  {
   "cell_type": "code",
   "execution_count": 26,
   "metadata": {},
   "outputs": [
    {
     "data": {
      "text/html": [
       "<div>\n",
       "<style scoped>\n",
       "    .dataframe tbody tr th:only-of-type {\n",
       "        vertical-align: middle;\n",
       "    }\n",
       "\n",
       "    .dataframe tbody tr th {\n",
       "        vertical-align: top;\n",
       "    }\n",
       "\n",
       "    .dataframe thead th {\n",
       "        text-align: right;\n",
       "    }\n",
       "</style>\n",
       "<table border=\"1\" class=\"dataframe\">\n",
       "  <thead>\n",
       "    <tr style=\"text-align: right;\">\n",
       "      <th></th>\n",
       "      <th>_STATE</th>\n",
       "      <th>PRIMINSR</th>\n",
       "      <th>PERSDOC3</th>\n",
       "      <th>MEDCOST1</th>\n",
       "      <th>CHECKUP1</th>\n",
       "      <th>EXERANY2</th>\n",
       "      <th>BPMEDS</th>\n",
       "      <th>CHOLMED3</th>\n",
       "      <th>CVDINFR4</th>\n",
       "      <th>CVDCRHD4</th>\n",
       "      <th>...</th>\n",
       "      <th>HAVEHEPB</th>\n",
       "      <th>MEDSHEPB</th>\n",
       "      <th>HPVADVC4</th>\n",
       "      <th>TETANUS1</th>\n",
       "      <th>SHINGLE2</th>\n",
       "      <th>DRADVISE</th>\n",
       "      <th>CIMEMLOS</th>\n",
       "      <th>MARIJAN1</th>\n",
       "      <th>USEMRJN3</th>\n",
       "      <th>State_Name</th>\n",
       "    </tr>\n",
       "  </thead>\n",
       "  <tbody>\n",
       "    <tr>\n",
       "      <th>0</th>\n",
       "      <td>1.0</td>\n",
       "      <td>3.0</td>\n",
       "      <td>1.0</td>\n",
       "      <td>2.0</td>\n",
       "      <td>2.0</td>\n",
       "      <td>2.0</td>\n",
       "      <td>NaN</td>\n",
       "      <td>1.0</td>\n",
       "      <td>2.0</td>\n",
       "      <td>2.0</td>\n",
       "      <td>...</td>\n",
       "      <td>NaN</td>\n",
       "      <td>NaN</td>\n",
       "      <td>NaN</td>\n",
       "      <td>NaN</td>\n",
       "      <td>NaN</td>\n",
       "      <td>NaN</td>\n",
       "      <td>NaN</td>\n",
       "      <td>NaN</td>\n",
       "      <td>NaN</td>\n",
       "      <td>alabama</td>\n",
       "    </tr>\n",
       "    <tr>\n",
       "      <th>1</th>\n",
       "      <td>1.0</td>\n",
       "      <td>1.0</td>\n",
       "      <td>2.0</td>\n",
       "      <td>2.0</td>\n",
       "      <td>1.0</td>\n",
       "      <td>1.0</td>\n",
       "      <td>1.0</td>\n",
       "      <td>1.0</td>\n",
       "      <td>2.0</td>\n",
       "      <td>1.0</td>\n",
       "      <td>...</td>\n",
       "      <td>NaN</td>\n",
       "      <td>NaN</td>\n",
       "      <td>NaN</td>\n",
       "      <td>NaN</td>\n",
       "      <td>NaN</td>\n",
       "      <td>NaN</td>\n",
       "      <td>NaN</td>\n",
       "      <td>NaN</td>\n",
       "      <td>NaN</td>\n",
       "      <td>alabama</td>\n",
       "    </tr>\n",
       "    <tr>\n",
       "      <th>2</th>\n",
       "      <td>1.0</td>\n",
       "      <td>2.0</td>\n",
       "      <td>2.0</td>\n",
       "      <td>2.0</td>\n",
       "      <td>1.0</td>\n",
       "      <td>2.0</td>\n",
       "      <td>1.0</td>\n",
       "      <td>2.0</td>\n",
       "      <td>2.0</td>\n",
       "      <td>1.0</td>\n",
       "      <td>...</td>\n",
       "      <td>NaN</td>\n",
       "      <td>NaN</td>\n",
       "      <td>NaN</td>\n",
       "      <td>NaN</td>\n",
       "      <td>NaN</td>\n",
       "      <td>NaN</td>\n",
       "      <td>NaN</td>\n",
       "      <td>NaN</td>\n",
       "      <td>NaN</td>\n",
       "      <td>alabama</td>\n",
       "    </tr>\n",
       "    <tr>\n",
       "      <th>3</th>\n",
       "      <td>1.0</td>\n",
       "      <td>2.0</td>\n",
       "      <td>1.0</td>\n",
       "      <td>2.0</td>\n",
       "      <td>1.0</td>\n",
       "      <td>1.0</td>\n",
       "      <td>1.0</td>\n",
       "      <td>2.0</td>\n",
       "      <td>2.0</td>\n",
       "      <td>2.0</td>\n",
       "      <td>...</td>\n",
       "      <td>NaN</td>\n",
       "      <td>NaN</td>\n",
       "      <td>NaN</td>\n",
       "      <td>NaN</td>\n",
       "      <td>NaN</td>\n",
       "      <td>NaN</td>\n",
       "      <td>NaN</td>\n",
       "      <td>NaN</td>\n",
       "      <td>NaN</td>\n",
       "      <td>alabama</td>\n",
       "    </tr>\n",
       "    <tr>\n",
       "      <th>4</th>\n",
       "      <td>1.0</td>\n",
       "      <td>3.0</td>\n",
       "      <td>1.0</td>\n",
       "      <td>2.0</td>\n",
       "      <td>1.0</td>\n",
       "      <td>1.0</td>\n",
       "      <td>NaN</td>\n",
       "      <td>1.0</td>\n",
       "      <td>1.0</td>\n",
       "      <td>7.0</td>\n",
       "      <td>...</td>\n",
       "      <td>NaN</td>\n",
       "      <td>NaN</td>\n",
       "      <td>NaN</td>\n",
       "      <td>NaN</td>\n",
       "      <td>NaN</td>\n",
       "      <td>NaN</td>\n",
       "      <td>NaN</td>\n",
       "      <td>NaN</td>\n",
       "      <td>NaN</td>\n",
       "      <td>alabama</td>\n",
       "    </tr>\n",
       "  </tbody>\n",
       "</table>\n",
       "<p>5 rows × 68 columns</p>\n",
       "</div>"
      ],
      "text/plain": [
       "   _STATE  PRIMINSR  PERSDOC3  MEDCOST1  CHECKUP1  EXERANY2  BPMEDS  CHOLMED3  \\\n",
       "0     1.0       3.0       1.0       2.0       2.0       2.0     NaN       1.0   \n",
       "1     1.0       1.0       2.0       2.0       1.0       1.0     1.0       1.0   \n",
       "2     1.0       2.0       2.0       2.0       1.0       2.0     1.0       2.0   \n",
       "3     1.0       2.0       1.0       2.0       1.0       1.0     1.0       2.0   \n",
       "4     1.0       3.0       1.0       2.0       1.0       1.0     NaN       1.0   \n",
       "\n",
       "   CVDINFR4  CVDCRHD4  ...  HAVEHEPB  MEDSHEPB  HPVADVC4  TETANUS1  SHINGLE2  \\\n",
       "0       2.0       2.0  ...       NaN       NaN       NaN       NaN       NaN   \n",
       "1       2.0       1.0  ...       NaN       NaN       NaN       NaN       NaN   \n",
       "2       2.0       1.0  ...       NaN       NaN       NaN       NaN       NaN   \n",
       "3       2.0       2.0  ...       NaN       NaN       NaN       NaN       NaN   \n",
       "4       1.0       7.0  ...       NaN       NaN       NaN       NaN       NaN   \n",
       "\n",
       "   DRADVISE  CIMEMLOS  MARIJAN1  USEMRJN3  State_Name  \n",
       "0       NaN       NaN       NaN       NaN     alabama  \n",
       "1       NaN       NaN       NaN       NaN     alabama  \n",
       "2       NaN       NaN       NaN       NaN     alabama  \n",
       "3       NaN       NaN       NaN       NaN     alabama  \n",
       "4       NaN       NaN       NaN       NaN     alabama  \n",
       "\n",
       "[5 rows x 68 columns]"
      ]
     },
     "execution_count": 26,
     "metadata": {},
     "output_type": "execute_result"
    }
   ],
   "source": [
    "brfss_state = pd.merge(brfss,states,on='_STATE')\n",
    "\n",
    "brfss_state.head()"
   ]
  },
  {
   "cell_type": "markdown",
   "metadata": {},
   "source": [
    "### Merging brfss_state and geodata"
   ]
  },
  {
   "cell_type": "code",
   "execution_count": 27,
   "metadata": {},
   "outputs": [
    {
     "data": {
      "text/html": [
       "<div>\n",
       "<style scoped>\n",
       "    .dataframe tbody tr th:only-of-type {\n",
       "        vertical-align: middle;\n",
       "    }\n",
       "\n",
       "    .dataframe tbody tr th {\n",
       "        vertical-align: top;\n",
       "    }\n",
       "\n",
       "    .dataframe thead th {\n",
       "        text-align: right;\n",
       "    }\n",
       "</style>\n",
       "<table border=\"1\" class=\"dataframe\">\n",
       "  <thead>\n",
       "    <tr style=\"text-align: right;\">\n",
       "      <th></th>\n",
       "      <th>FID</th>\n",
       "      <th>Program</th>\n",
       "      <th>State_Code</th>\n",
       "      <th>State_Name</th>\n",
       "      <th>Flowing_St</th>\n",
       "      <th>FID_1</th>\n",
       "      <th>geometry</th>\n",
       "      <th>_STATE</th>\n",
       "      <th>PRIMINSR</th>\n",
       "      <th>PERSDOC3</th>\n",
       "      <th>...</th>\n",
       "      <th>HAVEHEPC</th>\n",
       "      <th>HAVEHEPB</th>\n",
       "      <th>MEDSHEPB</th>\n",
       "      <th>HPVADVC4</th>\n",
       "      <th>TETANUS1</th>\n",
       "      <th>SHINGLE2</th>\n",
       "      <th>DRADVISE</th>\n",
       "      <th>CIMEMLOS</th>\n",
       "      <th>MARIJAN1</th>\n",
       "      <th>USEMRJN3</th>\n",
       "    </tr>\n",
       "  </thead>\n",
       "  <tbody>\n",
       "    <tr>\n",
       "      <th>0</th>\n",
       "      <td>1</td>\n",
       "      <td>PERMIT TRACKING</td>\n",
       "      <td>AL</td>\n",
       "      <td>alabama</td>\n",
       "      <td>F</td>\n",
       "      <td>919</td>\n",
       "      <td>POLYGON ((-85.07007 31.98070, -85.11515 31.907...</td>\n",
       "      <td>1.0</td>\n",
       "      <td>3.0</td>\n",
       "      <td>1.0</td>\n",
       "      <td>...</td>\n",
       "      <td>NaN</td>\n",
       "      <td>NaN</td>\n",
       "      <td>NaN</td>\n",
       "      <td>NaN</td>\n",
       "      <td>NaN</td>\n",
       "      <td>NaN</td>\n",
       "      <td>NaN</td>\n",
       "      <td>NaN</td>\n",
       "      <td>NaN</td>\n",
       "      <td>NaN</td>\n",
       "    </tr>\n",
       "    <tr>\n",
       "      <th>1</th>\n",
       "      <td>1</td>\n",
       "      <td>PERMIT TRACKING</td>\n",
       "      <td>AL</td>\n",
       "      <td>alabama</td>\n",
       "      <td>F</td>\n",
       "      <td>919</td>\n",
       "      <td>POLYGON ((-85.07007 31.98070, -85.11515 31.907...</td>\n",
       "      <td>1.0</td>\n",
       "      <td>1.0</td>\n",
       "      <td>2.0</td>\n",
       "      <td>...</td>\n",
       "      <td>NaN</td>\n",
       "      <td>NaN</td>\n",
       "      <td>NaN</td>\n",
       "      <td>NaN</td>\n",
       "      <td>NaN</td>\n",
       "      <td>NaN</td>\n",
       "      <td>NaN</td>\n",
       "      <td>NaN</td>\n",
       "      <td>NaN</td>\n",
       "      <td>NaN</td>\n",
       "    </tr>\n",
       "    <tr>\n",
       "      <th>2</th>\n",
       "      <td>1</td>\n",
       "      <td>PERMIT TRACKING</td>\n",
       "      <td>AL</td>\n",
       "      <td>alabama</td>\n",
       "      <td>F</td>\n",
       "      <td>919</td>\n",
       "      <td>POLYGON ((-85.07007 31.98070, -85.11515 31.907...</td>\n",
       "      <td>1.0</td>\n",
       "      <td>2.0</td>\n",
       "      <td>2.0</td>\n",
       "      <td>...</td>\n",
       "      <td>NaN</td>\n",
       "      <td>NaN</td>\n",
       "      <td>NaN</td>\n",
       "      <td>NaN</td>\n",
       "      <td>NaN</td>\n",
       "      <td>NaN</td>\n",
       "      <td>NaN</td>\n",
       "      <td>NaN</td>\n",
       "      <td>NaN</td>\n",
       "      <td>NaN</td>\n",
       "    </tr>\n",
       "    <tr>\n",
       "      <th>3</th>\n",
       "      <td>1</td>\n",
       "      <td>PERMIT TRACKING</td>\n",
       "      <td>AL</td>\n",
       "      <td>alabama</td>\n",
       "      <td>F</td>\n",
       "      <td>919</td>\n",
       "      <td>POLYGON ((-85.07007 31.98070, -85.11515 31.907...</td>\n",
       "      <td>1.0</td>\n",
       "      <td>2.0</td>\n",
       "      <td>1.0</td>\n",
       "      <td>...</td>\n",
       "      <td>NaN</td>\n",
       "      <td>NaN</td>\n",
       "      <td>NaN</td>\n",
       "      <td>NaN</td>\n",
       "      <td>NaN</td>\n",
       "      <td>NaN</td>\n",
       "      <td>NaN</td>\n",
       "      <td>NaN</td>\n",
       "      <td>NaN</td>\n",
       "      <td>NaN</td>\n",
       "    </tr>\n",
       "    <tr>\n",
       "      <th>4</th>\n",
       "      <td>1</td>\n",
       "      <td>PERMIT TRACKING</td>\n",
       "      <td>AL</td>\n",
       "      <td>alabama</td>\n",
       "      <td>F</td>\n",
       "      <td>919</td>\n",
       "      <td>POLYGON ((-85.07007 31.98070, -85.11515 31.907...</td>\n",
       "      <td>1.0</td>\n",
       "      <td>3.0</td>\n",
       "      <td>1.0</td>\n",
       "      <td>...</td>\n",
       "      <td>NaN</td>\n",
       "      <td>NaN</td>\n",
       "      <td>NaN</td>\n",
       "      <td>NaN</td>\n",
       "      <td>NaN</td>\n",
       "      <td>NaN</td>\n",
       "      <td>NaN</td>\n",
       "      <td>NaN</td>\n",
       "      <td>NaN</td>\n",
       "      <td>NaN</td>\n",
       "    </tr>\n",
       "  </tbody>\n",
       "</table>\n",
       "<p>5 rows × 74 columns</p>\n",
       "</div>"
      ],
      "text/plain": [
       "   FID          Program State_Code State_Name Flowing_St  FID_1  \\\n",
       "0    1  PERMIT TRACKING         AL    alabama          F    919   \n",
       "1    1  PERMIT TRACKING         AL    alabama          F    919   \n",
       "2    1  PERMIT TRACKING         AL    alabama          F    919   \n",
       "3    1  PERMIT TRACKING         AL    alabama          F    919   \n",
       "4    1  PERMIT TRACKING         AL    alabama          F    919   \n",
       "\n",
       "                                            geometry  _STATE  PRIMINSR  \\\n",
       "0  POLYGON ((-85.07007 31.98070, -85.11515 31.907...     1.0       3.0   \n",
       "1  POLYGON ((-85.07007 31.98070, -85.11515 31.907...     1.0       1.0   \n",
       "2  POLYGON ((-85.07007 31.98070, -85.11515 31.907...     1.0       2.0   \n",
       "3  POLYGON ((-85.07007 31.98070, -85.11515 31.907...     1.0       2.0   \n",
       "4  POLYGON ((-85.07007 31.98070, -85.11515 31.907...     1.0       3.0   \n",
       "\n",
       "   PERSDOC3  ...  HAVEHEPC  HAVEHEPB  MEDSHEPB  HPVADVC4  TETANUS1  SHINGLE2  \\\n",
       "0       1.0  ...       NaN       NaN       NaN       NaN       NaN       NaN   \n",
       "1       2.0  ...       NaN       NaN       NaN       NaN       NaN       NaN   \n",
       "2       2.0  ...       NaN       NaN       NaN       NaN       NaN       NaN   \n",
       "3       1.0  ...       NaN       NaN       NaN       NaN       NaN       NaN   \n",
       "4       1.0  ...       NaN       NaN       NaN       NaN       NaN       NaN   \n",
       "\n",
       "   DRADVISE  CIMEMLOS  MARIJAN1  USEMRJN3  \n",
       "0       NaN       NaN       NaN       NaN  \n",
       "1       NaN       NaN       NaN       NaN  \n",
       "2       NaN       NaN       NaN       NaN  \n",
       "3       NaN       NaN       NaN       NaN  \n",
       "4       NaN       NaN       NaN       NaN  \n",
       "\n",
       "[5 rows x 74 columns]"
      ]
     },
     "execution_count": 27,
     "metadata": {},
     "output_type": "execute_result"
    }
   ],
   "source": [
    "merged_df = map_data.merge(brfss_state, on='State_Name')\n",
    "merged_df.head()"
   ]
  },
  {
   "cell_type": "code",
   "execution_count": 28,
   "metadata": {},
   "outputs": [
    {
     "data": {
      "text/plain": [
       "431639"
      ]
     },
     "execution_count": 28,
     "metadata": {},
     "output_type": "execute_result"
    }
   ],
   "source": [
    "# Checking how many observations/rows have nan values\n",
    "merged_df.isna().any(axis=1).sum()"
   ]
  },
  {
   "cell_type": "markdown",
   "metadata": {},
   "source": [
    "Because nan values occur in every observation across different columns, it is not possible to fully eliminate these observations. Thus, for visualizations and model development nan values will be ignored (or dropped for relevant columns) to prevent any significant bias for results."
   ]
  },
  {
   "cell_type": "markdown",
   "metadata": {},
   "source": [
    "# Data Analysis & Results"
   ]
  },
  {
   "cell_type": "markdown",
   "metadata": {},
   "source": [
    "Include cells that describe the steps in your data analysis."
   ]
  },
  {
   "cell_type": "markdown",
   "metadata": {},
   "source": [
    "## EDA"
   ]
  },
  {
   "cell_type": "code",
   "execution_count": 29,
   "metadata": {},
   "outputs": [
    {
     "data": {
      "text/html": [
       "<div>\n",
       "<style scoped>\n",
       "    .dataframe tbody tr th:only-of-type {\n",
       "        vertical-align: middle;\n",
       "    }\n",
       "\n",
       "    .dataframe tbody tr th {\n",
       "        vertical-align: top;\n",
       "    }\n",
       "\n",
       "    .dataframe thead th {\n",
       "        text-align: right;\n",
       "    }\n",
       "</style>\n",
       "<table border=\"1\" class=\"dataframe\">\n",
       "  <thead>\n",
       "    <tr style=\"text-align: right;\">\n",
       "      <th></th>\n",
       "      <th>FID</th>\n",
       "      <th>FID_1</th>\n",
       "      <th>_STATE</th>\n",
       "      <th>PRIMINSR</th>\n",
       "      <th>PERSDOC3</th>\n",
       "      <th>MEDCOST1</th>\n",
       "      <th>CHECKUP1</th>\n",
       "      <th>EXERANY2</th>\n",
       "      <th>BPMEDS</th>\n",
       "      <th>CHOLMED3</th>\n",
       "      <th>...</th>\n",
       "      <th>HAVEHEPC</th>\n",
       "      <th>HAVEHEPB</th>\n",
       "      <th>MEDSHEPB</th>\n",
       "      <th>HPVADVC4</th>\n",
       "      <th>TETANUS1</th>\n",
       "      <th>SHINGLE2</th>\n",
       "      <th>DRADVISE</th>\n",
       "      <th>CIMEMLOS</th>\n",
       "      <th>MARIJAN1</th>\n",
       "      <th>USEMRJN3</th>\n",
       "    </tr>\n",
       "  </thead>\n",
       "  <tbody>\n",
       "    <tr>\n",
       "      <th>count</th>\n",
       "      <td>431639.000000</td>\n",
       "      <td>431639.000000</td>\n",
       "      <td>431639.000000</td>\n",
       "      <td>431636.000000</td>\n",
       "      <td>431637.000000</td>\n",
       "      <td>431636.000000</td>\n",
       "      <td>431637.000000</td>\n",
       "      <td>431637.000000</td>\n",
       "      <td>169183.000000</td>\n",
       "      <td>370783.000000</td>\n",
       "      <td>...</td>\n",
       "      <td>162.000000</td>\n",
       "      <td>10779.000000</td>\n",
       "      <td>95.000000</td>\n",
       "      <td>13314.000000</td>\n",
       "      <td>14877.000000</td>\n",
       "      <td>13552.000000</td>\n",
       "      <td>30676.000000</td>\n",
       "      <td>33151.000000</td>\n",
       "      <td>136083.000000</td>\n",
       "      <td>13423.000000</td>\n",
       "    </tr>\n",
       "    <tr>\n",
       "      <th>mean</th>\n",
       "      <td>27.032652</td>\n",
       "      <td>945.032652</td>\n",
       "      <td>30.071741</td>\n",
       "      <td>10.602501</td>\n",
       "      <td>1.579049</td>\n",
       "      <td>1.943383</td>\n",
       "      <td>1.470685</td>\n",
       "      <td>1.256255</td>\n",
       "      <td>1.188122</td>\n",
       "      <td>1.722447</td>\n",
       "      <td>...</td>\n",
       "      <td>2.395062</td>\n",
       "      <td>2.032749</td>\n",
       "      <td>1.947368</td>\n",
       "      <td>2.448550</td>\n",
       "      <td>3.170397</td>\n",
       "      <td>1.743654</td>\n",
       "      <td>1.811416</td>\n",
       "      <td>1.942777</td>\n",
       "      <td>81.027307</td>\n",
       "      <td>1.732400</td>\n",
       "    </tr>\n",
       "    <tr>\n",
       "      <th>std</th>\n",
       "      <td>13.679389</td>\n",
       "      <td>13.679389</td>\n",
       "      <td>14.518858</td>\n",
       "      <td>24.791496</td>\n",
       "      <td>0.892471</td>\n",
       "      <td>0.411946</td>\n",
       "      <td>1.128673</td>\n",
       "      <td>0.522659</td>\n",
       "      <td>0.508743</td>\n",
       "      <td>0.617834</td>\n",
       "      <td>...</td>\n",
       "      <td>1.616522</td>\n",
       "      <td>0.490155</td>\n",
       "      <td>0.224481</td>\n",
       "      <td>1.786746</td>\n",
       "      <td>1.763494</td>\n",
       "      <td>1.018371</td>\n",
       "      <td>0.681722</td>\n",
       "      <td>0.708885</td>\n",
       "      <td>21.564288</td>\n",
       "      <td>1.338003</td>\n",
       "    </tr>\n",
       "    <tr>\n",
       "      <th>min</th>\n",
       "      <td>1.000000</td>\n",
       "      <td>919.000000</td>\n",
       "      <td>1.000000</td>\n",
       "      <td>1.000000</td>\n",
       "      <td>1.000000</td>\n",
       "      <td>1.000000</td>\n",
       "      <td>1.000000</td>\n",
       "      <td>1.000000</td>\n",
       "      <td>1.000000</td>\n",
       "      <td>1.000000</td>\n",
       "      <td>...</td>\n",
       "      <td>1.000000</td>\n",
       "      <td>1.000000</td>\n",
       "      <td>1.000000</td>\n",
       "      <td>1.000000</td>\n",
       "      <td>1.000000</td>\n",
       "      <td>1.000000</td>\n",
       "      <td>1.000000</td>\n",
       "      <td>1.000000</td>\n",
       "      <td>1.000000</td>\n",
       "      <td>1.000000</td>\n",
       "    </tr>\n",
       "    <tr>\n",
       "      <th>25%</th>\n",
       "      <td>17.000000</td>\n",
       "      <td>935.000000</td>\n",
       "      <td>20.000000</td>\n",
       "      <td>1.000000</td>\n",
       "      <td>1.000000</td>\n",
       "      <td>2.000000</td>\n",
       "      <td>1.000000</td>\n",
       "      <td>1.000000</td>\n",
       "      <td>1.000000</td>\n",
       "      <td>1.000000</td>\n",
       "      <td>...</td>\n",
       "      <td>2.000000</td>\n",
       "      <td>2.000000</td>\n",
       "      <td>2.000000</td>\n",
       "      <td>2.000000</td>\n",
       "      <td>2.000000</td>\n",
       "      <td>1.000000</td>\n",
       "      <td>2.000000</td>\n",
       "      <td>2.000000</td>\n",
       "      <td>88.000000</td>\n",
       "      <td>1.000000</td>\n",
       "    </tr>\n",
       "    <tr>\n",
       "      <th>50%</th>\n",
       "      <td>28.000000</td>\n",
       "      <td>946.000000</td>\n",
       "      <td>31.000000</td>\n",
       "      <td>3.000000</td>\n",
       "      <td>1.000000</td>\n",
       "      <td>2.000000</td>\n",
       "      <td>1.000000</td>\n",
       "      <td>1.000000</td>\n",
       "      <td>1.000000</td>\n",
       "      <td>2.000000</td>\n",
       "      <td>...</td>\n",
       "      <td>2.000000</td>\n",
       "      <td>2.000000</td>\n",
       "      <td>2.000000</td>\n",
       "      <td>2.000000</td>\n",
       "      <td>3.000000</td>\n",
       "      <td>2.000000</td>\n",
       "      <td>2.000000</td>\n",
       "      <td>2.000000</td>\n",
       "      <td>88.000000</td>\n",
       "      <td>1.000000</td>\n",
       "    </tr>\n",
       "    <tr>\n",
       "      <th>75%</th>\n",
       "      <td>37.000000</td>\n",
       "      <td>955.000000</td>\n",
       "      <td>40.000000</td>\n",
       "      <td>3.000000</td>\n",
       "      <td>2.000000</td>\n",
       "      <td>2.000000</td>\n",
       "      <td>1.000000</td>\n",
       "      <td>1.000000</td>\n",
       "      <td>1.000000</td>\n",
       "      <td>2.000000</td>\n",
       "      <td>...</td>\n",
       "      <td>2.000000</td>\n",
       "      <td>2.000000</td>\n",
       "      <td>2.000000</td>\n",
       "      <td>2.000000</td>\n",
       "      <td>4.000000</td>\n",
       "      <td>2.000000</td>\n",
       "      <td>2.000000</td>\n",
       "      <td>2.000000</td>\n",
       "      <td>88.000000</td>\n",
       "      <td>2.000000</td>\n",
       "    </tr>\n",
       "    <tr>\n",
       "      <th>max</th>\n",
       "      <td>51.000000</td>\n",
       "      <td>969.000000</td>\n",
       "      <td>56.000000</td>\n",
       "      <td>99.000000</td>\n",
       "      <td>9.000000</td>\n",
       "      <td>9.000000</td>\n",
       "      <td>9.000000</td>\n",
       "      <td>9.000000</td>\n",
       "      <td>9.000000</td>\n",
       "      <td>9.000000</td>\n",
       "      <td>...</td>\n",
       "      <td>7.000000</td>\n",
       "      <td>9.000000</td>\n",
       "      <td>2.000000</td>\n",
       "      <td>9.000000</td>\n",
       "      <td>9.000000</td>\n",
       "      <td>9.000000</td>\n",
       "      <td>9.000000</td>\n",
       "      <td>9.000000</td>\n",
       "      <td>99.000000</td>\n",
       "      <td>9.000000</td>\n",
       "    </tr>\n",
       "  </tbody>\n",
       "</table>\n",
       "<p>8 rows × 69 columns</p>\n",
       "</div>"
      ],
      "text/plain": [
       "                 FID          FID_1         _STATE       PRIMINSR  \\\n",
       "count  431639.000000  431639.000000  431639.000000  431636.000000   \n",
       "mean       27.032652     945.032652      30.071741      10.602501   \n",
       "std        13.679389      13.679389      14.518858      24.791496   \n",
       "min         1.000000     919.000000       1.000000       1.000000   \n",
       "25%        17.000000     935.000000      20.000000       1.000000   \n",
       "50%        28.000000     946.000000      31.000000       3.000000   \n",
       "75%        37.000000     955.000000      40.000000       3.000000   \n",
       "max        51.000000     969.000000      56.000000      99.000000   \n",
       "\n",
       "            PERSDOC3       MEDCOST1       CHECKUP1       EXERANY2  \\\n",
       "count  431637.000000  431636.000000  431637.000000  431637.000000   \n",
       "mean        1.579049       1.943383       1.470685       1.256255   \n",
       "std         0.892471       0.411946       1.128673       0.522659   \n",
       "min         1.000000       1.000000       1.000000       1.000000   \n",
       "25%         1.000000       2.000000       1.000000       1.000000   \n",
       "50%         1.000000       2.000000       1.000000       1.000000   \n",
       "75%         2.000000       2.000000       1.000000       1.000000   \n",
       "max         9.000000       9.000000       9.000000       9.000000   \n",
       "\n",
       "              BPMEDS       CHOLMED3  ...    HAVEHEPC      HAVEHEPB   MEDSHEPB  \\\n",
       "count  169183.000000  370783.000000  ...  162.000000  10779.000000  95.000000   \n",
       "mean        1.188122       1.722447  ...    2.395062      2.032749   1.947368   \n",
       "std         0.508743       0.617834  ...    1.616522      0.490155   0.224481   \n",
       "min         1.000000       1.000000  ...    1.000000      1.000000   1.000000   \n",
       "25%         1.000000       1.000000  ...    2.000000      2.000000   2.000000   \n",
       "50%         1.000000       2.000000  ...    2.000000      2.000000   2.000000   \n",
       "75%         1.000000       2.000000  ...    2.000000      2.000000   2.000000   \n",
       "max         9.000000       9.000000  ...    7.000000      9.000000   2.000000   \n",
       "\n",
       "           HPVADVC4      TETANUS1      SHINGLE2      DRADVISE      CIMEMLOS  \\\n",
       "count  13314.000000  14877.000000  13552.000000  30676.000000  33151.000000   \n",
       "mean       2.448550      3.170397      1.743654      1.811416      1.942777   \n",
       "std        1.786746      1.763494      1.018371      0.681722      0.708885   \n",
       "min        1.000000      1.000000      1.000000      1.000000      1.000000   \n",
       "25%        2.000000      2.000000      1.000000      2.000000      2.000000   \n",
       "50%        2.000000      3.000000      2.000000      2.000000      2.000000   \n",
       "75%        2.000000      4.000000      2.000000      2.000000      2.000000   \n",
       "max        9.000000      9.000000      9.000000      9.000000      9.000000   \n",
       "\n",
       "            MARIJAN1      USEMRJN3  \n",
       "count  136083.000000  13423.000000  \n",
       "mean       81.027307      1.732400  \n",
       "std        21.564288      1.338003  \n",
       "min         1.000000      1.000000  \n",
       "25%        88.000000      1.000000  \n",
       "50%        88.000000      1.000000  \n",
       "75%        88.000000      2.000000  \n",
       "max        99.000000      9.000000  \n",
       "\n",
       "[8 rows x 69 columns]"
      ]
     },
     "execution_count": 29,
     "metadata": {},
     "output_type": "execute_result"
    }
   ],
   "source": [
    "merged_df.describe()"
   ]
  },
  {
   "cell_type": "markdown",
   "metadata": {},
   "source": [
    "### Columns to Explore"
   ]
  },
  {
   "cell_type": "markdown",
   "metadata": {},
   "source": [
    "Will look at: \n",
    "- 'MEDCOST1' : Time unable to afford a doctor in the past (1=Yes,2=No)\n",
    "- 'EXERANY2' : Any physical exercise in last month (1=Yes,2=No,7/9=Unsure/Refuse)\n",
    "- 'MARIJAN1' : During past 30 days # of days used marijuana (1-30=Days, Other values N/A)\n",
    "- 'AVEDRNK3' : Avg # of drinks per day drinking (1-76=Days)\n",
    "- 'SMOKDAY2' : # days smoking (1=everyday,2=some days, 3 = none)\n",
    "- 'EDUCA' : Education level (1=None --> 6=College plus)"
   ]
  },
  {
   "cell_type": "code",
   "execution_count": 30,
   "metadata": {},
   "outputs": [],
   "source": [
    "# Values to ignore for mean values because indicate unsure, refuse to respond, etc.\n",
    "ignore_values = {\n",
    "    'MEDCOST1': [7, 9],\n",
    "    'EXERANY2': [7, 9],\n",
    "    'MARIJAN1': [77, 88, 99],\n",
    "    'AVEDRNK3': [77, 88, 99],\n",
    "    'SMOKDAY2': [7, 9],\n",
    "    'EDUCA': [7, 9]\n",
    "}\n",
    "\n",
    "# Exclude rows with the specified values and calculate the mean\n",
    "means = merged_df.copy()\n",
    "for column, values in ignore_values.items():\n",
    "    means = means[~means[column].isin(values)]\n",
    "\n",
    "# Calculating means of EDA columns\n",
    "means = means.groupby('State_Name')[['MEDCOST1', 'EXERANY2', 'MARIJAN1', 'AVEDRNK3', 'SMOKDAY2', 'EDUCA']].mean().reset_index()\n",
    "\n",
    "# Creating dataframe for map data with mean data to create visualizations\n",
    "map_means = map_data.merge(means,on='State_Name')"
   ]
  },
  {
   "cell_type": "code",
   "execution_count": 31,
   "metadata": {},
   "outputs": [
    {
     "data": {
      "text/html": [
       "<div>\n",
       "<style scoped>\n",
       "    .dataframe tbody tr th:only-of-type {\n",
       "        vertical-align: middle;\n",
       "    }\n",
       "\n",
       "    .dataframe tbody tr th {\n",
       "        vertical-align: top;\n",
       "    }\n",
       "\n",
       "    .dataframe thead th {\n",
       "        text-align: right;\n",
       "    }\n",
       "</style>\n",
       "<table border=\"1\" class=\"dataframe\">\n",
       "  <thead>\n",
       "    <tr style=\"text-align: right;\">\n",
       "      <th></th>\n",
       "      <th>FID</th>\n",
       "      <th>Program</th>\n",
       "      <th>State_Code</th>\n",
       "      <th>State_Name</th>\n",
       "      <th>Flowing_St</th>\n",
       "      <th>FID_1</th>\n",
       "      <th>geometry</th>\n",
       "      <th>MEDCOST1</th>\n",
       "      <th>EXERANY2</th>\n",
       "      <th>MARIJAN1</th>\n",
       "      <th>AVEDRNK3</th>\n",
       "      <th>SMOKDAY2</th>\n",
       "      <th>EDUCA</th>\n",
       "    </tr>\n",
       "  </thead>\n",
       "  <tbody>\n",
       "    <tr>\n",
       "      <th>0</th>\n",
       "      <td>1</td>\n",
       "      <td>PERMIT TRACKING</td>\n",
       "      <td>AL</td>\n",
       "      <td>alabama</td>\n",
       "      <td>F</td>\n",
       "      <td>919</td>\n",
       "      <td>POLYGON ((-85.07007 31.98070, -85.11515 31.907...</td>\n",
       "      <td>1.919433</td>\n",
       "      <td>1.335547</td>\n",
       "      <td>NaN</td>\n",
       "      <td>2.295244</td>\n",
       "      <td>2.386776</td>\n",
       "      <td>4.924524</td>\n",
       "    </tr>\n",
       "    <tr>\n",
       "      <th>1</th>\n",
       "      <td>2</td>\n",
       "      <td>NaN</td>\n",
       "      <td>AK</td>\n",
       "      <td>alaska</td>\n",
       "      <td>N</td>\n",
       "      <td>920</td>\n",
       "      <td>MULTIPOLYGON (((-161.33379 58.73325, -161.3824...</td>\n",
       "      <td>1.870767</td>\n",
       "      <td>1.211472</td>\n",
       "      <td>18.447087</td>\n",
       "      <td>3.237500</td>\n",
       "      <td>2.155975</td>\n",
       "      <td>4.821009</td>\n",
       "    </tr>\n",
       "    <tr>\n",
       "      <th>2</th>\n",
       "      <td>3</td>\n",
       "      <td>AZURITE</td>\n",
       "      <td>AZ</td>\n",
       "      <td>arizona</td>\n",
       "      <td>F</td>\n",
       "      <td>921</td>\n",
       "      <td>POLYGON ((-114.52063 33.02771, -114.55909 33.0...</td>\n",
       "      <td>1.916276</td>\n",
       "      <td>1.227921</td>\n",
       "      <td>NaN</td>\n",
       "      <td>2.363636</td>\n",
       "      <td>2.497486</td>\n",
       "      <td>5.039613</td>\n",
       "    </tr>\n",
       "    <tr>\n",
       "      <th>3</th>\n",
       "      <td>4</td>\n",
       "      <td>PDS</td>\n",
       "      <td>AR</td>\n",
       "      <td>arkansas</td>\n",
       "      <td>F</td>\n",
       "      <td>922</td>\n",
       "      <td>POLYGON ((-94.46169 34.19677, -94.45262 34.508...</td>\n",
       "      <td>1.932788</td>\n",
       "      <td>1.339871</td>\n",
       "      <td>NaN</td>\n",
       "      <td>2.190725</td>\n",
       "      <td>2.423975</td>\n",
       "      <td>4.840823</td>\n",
       "    </tr>\n",
       "    <tr>\n",
       "      <th>4</th>\n",
       "      <td>5</td>\n",
       "      <td>NaN</td>\n",
       "      <td>CA</td>\n",
       "      <td>california</td>\n",
       "      <td>N</td>\n",
       "      <td>923</td>\n",
       "      <td>MULTIPOLYGON (((-121.66522 38.16929, -121.7823...</td>\n",
       "      <td>1.909706</td>\n",
       "      <td>1.191106</td>\n",
       "      <td>NaN</td>\n",
       "      <td>2.289171</td>\n",
       "      <td>2.575508</td>\n",
       "      <td>4.925180</td>\n",
       "    </tr>\n",
       "  </tbody>\n",
       "</table>\n",
       "</div>"
      ],
      "text/plain": [
       "   FID          Program State_Code  State_Name Flowing_St  FID_1  \\\n",
       "0    1  PERMIT TRACKING         AL     alabama          F    919   \n",
       "1    2              NaN         AK      alaska          N    920   \n",
       "2    3          AZURITE         AZ     arizona          F    921   \n",
       "3    4              PDS         AR    arkansas          F    922   \n",
       "4    5              NaN         CA  california          N    923   \n",
       "\n",
       "                                            geometry  MEDCOST1  EXERANY2  \\\n",
       "0  POLYGON ((-85.07007 31.98070, -85.11515 31.907...  1.919433  1.335547   \n",
       "1  MULTIPOLYGON (((-161.33379 58.73325, -161.3824...  1.870767  1.211472   \n",
       "2  POLYGON ((-114.52063 33.02771, -114.55909 33.0...  1.916276  1.227921   \n",
       "3  POLYGON ((-94.46169 34.19677, -94.45262 34.508...  1.932788  1.339871   \n",
       "4  MULTIPOLYGON (((-121.66522 38.16929, -121.7823...  1.909706  1.191106   \n",
       "\n",
       "    MARIJAN1  AVEDRNK3  SMOKDAY2     EDUCA  \n",
       "0        NaN  2.295244  2.386776  4.924524  \n",
       "1  18.447087  3.237500  2.155975  4.821009  \n",
       "2        NaN  2.363636  2.497486  5.039613  \n",
       "3        NaN  2.190725  2.423975  4.840823  \n",
       "4        NaN  2.289171  2.575508  4.925180  "
      ]
     },
     "execution_count": 31,
     "metadata": {},
     "output_type": "execute_result"
    }
   ],
   "source": [
    "map_means.head()"
   ]
  },
  {
   "cell_type": "markdown",
   "metadata": {},
   "source": [
    "### Proportion of People Unable to Afford a Doctor"
   ]
  },
  {
   "cell_type": "code",
   "execution_count": 32,
   "metadata": {},
   "outputs": [
    {
     "data": {
      "text/html": [
       "<div>\n",
       "<style scoped>\n",
       "    .dataframe tbody tr th:only-of-type {\n",
       "        vertical-align: middle;\n",
       "    }\n",
       "\n",
       "    .dataframe tbody tr th {\n",
       "        vertical-align: top;\n",
       "    }\n",
       "\n",
       "    .dataframe thead th {\n",
       "        text-align: right;\n",
       "    }\n",
       "</style>\n",
       "<table border=\"1\" class=\"dataframe\">\n",
       "  <thead>\n",
       "    <tr style=\"text-align: right;\">\n",
       "      <th></th>\n",
       "      <th>State_Code</th>\n",
       "      <th>MEDCOST1</th>\n",
       "      <th>proportion</th>\n",
       "    </tr>\n",
       "  </thead>\n",
       "  <tbody>\n",
       "    <tr>\n",
       "      <th>65</th>\n",
       "      <td>NV</td>\n",
       "      <td>1.0</td>\n",
       "      <td>0.148289</td>\n",
       "    </tr>\n",
       "    <tr>\n",
       "      <th>87</th>\n",
       "      <td>UT</td>\n",
       "      <td>1.0</td>\n",
       "      <td>0.141396</td>\n",
       "    </tr>\n",
       "    <tr>\n",
       "      <th>85</th>\n",
       "      <td>TX</td>\n",
       "      <td>1.0</td>\n",
       "      <td>0.138854</td>\n",
       "    </tr>\n",
       "    <tr>\n",
       "      <th>33</th>\n",
       "      <td>KY</td>\n",
       "      <td>1.0</td>\n",
       "      <td>0.133333</td>\n",
       "    </tr>\n",
       "    <tr>\n",
       "      <th>1</th>\n",
       "      <td>AK</td>\n",
       "      <td>1.0</td>\n",
       "      <td>0.129233</td>\n",
       "    </tr>\n",
       "  </tbody>\n",
       "</table>\n",
       "</div>"
      ],
      "text/plain": [
       "   State_Code  MEDCOST1  proportion\n",
       "65         NV       1.0    0.148289\n",
       "87         UT       1.0    0.141396\n",
       "85         TX       1.0    0.138854\n",
       "33         KY       1.0    0.133333\n",
       "1          AK       1.0    0.129233"
      ]
     },
     "execution_count": 32,
     "metadata": {},
     "output_type": "execute_result"
    }
   ],
   "source": [
    "props = merged_df.copy()\n",
    "# Excluding Values of no Consequence and Calculating Proportions for People Able to Afford a Doctor\n",
    "for column, values in ignore_values.items():\n",
    "    props = props[~props[column].isin(values)]\n",
    "props_medcost = props.groupby('State_Code')['MEDCOST1'].value_counts(normalize = True).to_frame()\n",
    "props_medcost.columns = ['proportion']\n",
    "props_medcost = props_medcost.reset_index()\n",
    "props_afford = props_medcost[props_medcost['MEDCOST1'] == 1]\n",
    "props_afford = props_afford.sort_values('proportion', ascending = False)\n",
    "props_afford.head()"
   ]
  },
  {
   "cell_type": "code",
   "execution_count": 33,
   "metadata": {},
   "outputs": [
    {
     "data": {
      "text/plain": [
       "Text(0, 0.5, 'Proportion of People Unable to Afford a Doctor')"
      ]
     },
     "execution_count": 33,
     "metadata": {},
     "output_type": "execute_result"
    },
    {
     "data": {
      "image/png": "[encoded data removed]",
      "text/plain": [
       "<Figure size 432x288 with 1 Axes>"
      ]
     },
     "metadata": {
      "needs_background": "light"
     },
     "output_type": "display_data"
    }
   ],
   "source": [
    "top_10_med = props_afford.head(10)\n",
    "top_10_med.plot.bar(x = 'State_Code', y = 'proportion', rot = 0)\n",
    "\n",
    "# Add a title to the plot and label axes\n",
    "plt.style.use('fivethirtyeight')\n",
    "plt.title(\"Bottom 10 States in Health Care Affordability\")\n",
    "plt.xlabel('State')\n",
    "plt.ylabel('Proportion of People Unable to Afford a Doctor', size = 10)"
   ]
  },
  {
   "cell_type": "code",
   "execution_count": 34,
   "metadata": {},
   "outputs": [
    {
     "data": {
      "text/plain": [
       "Text(0, 0.5, 'Proportion of People Unable to Afford a Doctor')"
      ]
     },
     "execution_count": 34,
     "metadata": {},
     "output_type": "execute_result"
    },
    {
     "data": {
      "image/png": "[encoded data removed]",
      "text/plain": [
       "<Figure size 432x288 with 1 Axes>"
      ]
     },
     "metadata": {},
     "output_type": "display_data"
    }
   ],
   "source": [
    "bot_10_med = props_afford.tail(10).sort_values('proportion', ascending = True)\n",
    "bot_10_med.plot.bar(x = 'State_Code', y = 'proportion', rot = 0)\n",
    "\n",
    "# Add a title to the plot and label axes\n",
    "plt.style.use('fivethirtyeight')\n",
    "plt.title(\"Top 10 States in Health Care Affordability\")\n",
    "plt.xlabel('State')\n",
    "plt.ylabel('Proportion of People Unable to Afford a Doctor', size = 13)"
   ]
  },
  {
   "cell_type": "markdown",
   "metadata": {},
   "source": [
    "From these graphs, we can see that Nevada, Utah, and Texas are the worst states in health care affordability with Wisconscin, DC, and Iowa being the best states for health care affordability."
   ]
  },
  {
   "cell_type": "code",
   "execution_count": 35,
   "metadata": {},
   "outputs": [
    {
     "data": {
      "image/png": "[encoded data removed]",
      "text/plain": [
       "<Figure size 720x720 with 2 Axes>"
      ]
     },
     "metadata": {},
     "output_type": "display_data"
    }
   ],
   "source": [
    "fig, ax = plt.subplots(figsize=(10, 10))\n",
    "\n",
    "map_means.plot(ax=ax,column='MEDCOST1',legend=True)\n",
    "\n",
    "# Add a title to the plot\n",
    "plt.title('Proportion of People Who Could Not Afford to See a Doctor')\n",
    "plt.text(0.5, 0.95, 'Lower value indicates more people able to afford a doctor', transform=ax.transAxes, ha='center')\n",
    "\n",
    "# Display the plot\n",
    "plt.show()"
   ]
  },
  {
   "cell_type": "markdown",
   "metadata": {},
   "source": [
    "From this graph, there seems to be a greater amount of people having issues with being able to afford medical care through doctor's visits in primarily the Midwest and Northeast United States."
   ]
  },
  {
   "cell_type": "markdown",
   "metadata": {},
   "source": [
    "### Proportion of People Exercising Within Last Month"
   ]
  },
  {
   "cell_type": "code",
   "execution_count": 36,
   "metadata": {},
   "outputs": [
    {
     "data": {
      "text/html": [
       "<div>\n",
       "<style scoped>\n",
       "    .dataframe tbody tr th:only-of-type {\n",
       "        vertical-align: middle;\n",
       "    }\n",
       "\n",
       "    .dataframe tbody tr th {\n",
       "        vertical-align: top;\n",
       "    }\n",
       "\n",
       "    .dataframe thead th {\n",
       "        text-align: right;\n",
       "    }\n",
       "</style>\n",
       "<table border=\"1\" class=\"dataframe\">\n",
       "  <thead>\n",
       "    <tr style=\"text-align: right;\">\n",
       "      <th></th>\n",
       "      <th>State_Code</th>\n",
       "      <th>EXERANY2</th>\n",
       "      <th>proportion</th>\n",
       "    </tr>\n",
       "  </thead>\n",
       "  <tbody>\n",
       "    <tr>\n",
       "      <th>14</th>\n",
       "      <td>DC</td>\n",
       "      <td>1.0</td>\n",
       "      <td>0.840836</td>\n",
       "    </tr>\n",
       "    <tr>\n",
       "      <th>10</th>\n",
       "      <td>CO</td>\n",
       "      <td>1.0</td>\n",
       "      <td>0.833870</td>\n",
       "    </tr>\n",
       "    <tr>\n",
       "      <th>90</th>\n",
       "      <td>VT</td>\n",
       "      <td>1.0</td>\n",
       "      <td>0.829617</td>\n",
       "    </tr>\n",
       "    <tr>\n",
       "      <th>20</th>\n",
       "      <td>HI</td>\n",
       "      <td>1.0</td>\n",
       "      <td>0.824984</td>\n",
       "    </tr>\n",
       "    <tr>\n",
       "      <th>92</th>\n",
       "      <td>WA</td>\n",
       "      <td>1.0</td>\n",
       "      <td>0.817822</td>\n",
       "    </tr>\n",
       "  </tbody>\n",
       "</table>\n",
       "</div>"
      ],
      "text/plain": [
       "   State_Code  EXERANY2  proportion\n",
       "14         DC       1.0    0.840836\n",
       "10         CO       1.0    0.833870\n",
       "90         VT       1.0    0.829617\n",
       "20         HI       1.0    0.824984\n",
       "92         WA       1.0    0.817822"
      ]
     },
     "execution_count": 36,
     "metadata": {},
     "output_type": "execute_result"
    }
   ],
   "source": [
    "# Calculating Proportions of People not Exercising within Last Month\n",
    "props_exer = props.groupby('State_Code')['EXERANY2'].value_counts(normalize = True).to_frame()\n",
    "props_exer.columns = ['proportion']\n",
    "props_exer = props_exer.reset_index()\n",
    "props_noexer = props_exer[props_exer['EXERANY2'] == 1]\n",
    "props_noexer = props_noexer.sort_values('proportion', ascending = False)\n",
    "props_noexer.head()"
   ]
  },
  {
   "cell_type": "code",
   "execution_count": 37,
   "metadata": {},
   "outputs": [
    {
     "data": {
      "text/plain": [
       "Text(0, 0.5, 'Proportion of People with No Exercise in the Last 30 Days')"
      ]
     },
     "execution_count": 37,
     "metadata": {},
     "output_type": "execute_result"
    },
    {
     "data": {
      "image/png": "[encoded data removed]",
      "text/plain": [
       "<Figure size 432x288 with 1 Axes>"
      ]
     },
     "metadata": {},
     "output_type": "display_data"
    }
   ],
   "source": [
    "top_10_exer = props_noexer.head(10)\n",
    "top_10_exer.plot.bar(x = 'State_Code', y = 'proportion', rot = 0)\n",
    "\n",
    "# Add a title to the plot and label axes\n",
    "plt.style.use('fivethirtyeight')\n",
    "plt.title(\"Most Sedentary States\")\n",
    "plt.xlabel('State')\n",
    "plt.ylabel('Proportion of People with No Exercise in the Last 30 Days', size = 10)"
   ]
  },
  {
   "cell_type": "code",
   "execution_count": 38,
   "metadata": {},
   "outputs": [
    {
     "data": {
      "text/plain": [
       "Text(0, 0.5, 'Proportion of People with No Exercise in the Last 30 Days')"
      ]
     },
     "execution_count": 38,
     "metadata": {},
     "output_type": "execute_result"
    },
    {
     "data": {
      "image/png": "[encoded data removed]",
      "text/plain": [
       "<Figure size 432x288 with 1 Axes>"
      ]
     },
     "metadata": {},
     "output_type": "display_data"
    }
   ],
   "source": [
    "bot_10_exer = props_noexer.tail(10).sort_values('proportion', ascending = True)\n",
    "bot_10_exer.plot.bar(x = 'State_Code', y = 'proportion', rot = 0)\n",
    "\n",
    "# Add a title to the plot and label axes\n",
    "plt.style.use('fivethirtyeight')\n",
    "plt.title(\"Most Physcially Active States\")\n",
    "plt.xlabel('State')\n",
    "plt.ylabel('Proportion of People with No Exercise in the Last 30 Days', size = 10)"
   ]
  },
  {
   "cell_type": "markdown",
   "metadata": {},
   "source": [
    "From these graphs, we can see that a majority of the population remains sedentary with Arkansas, the state with the most physically active population, hovering around 30%. Furhtermore relative to other states, DC, Colorado, and Vermont have the most sedentary lifestyles. Finally, Arkansas, Alaska, and Missouri were the most physically active states."
   ]
  },
  {
   "cell_type": "code",
   "execution_count": 39,
   "metadata": {},
   "outputs": [
    {
     "data": {
      "image/png": "[encoded data removed]",
      "text/plain": [
       "<Figure size 720x720 with 2 Axes>"
      ]
     },
     "metadata": {},
     "output_type": "display_data"
    }
   ],
   "source": [
    "fig, ax = plt.subplots(figsize=(10, 10))\n",
    "\n",
    "map_means.plot(ax=ax,column='EXERANY2',legend=True)\n",
    "\n",
    "# Add a title to the plot\n",
    "plt.title('Proportion of People Who Have Exercised Within the Last 30 Days')\n",
    "plt.text(0.5, 0.95, 'Lower value indicates more people who exercised', transform=ax.transAxes, ha='center')\n",
    "\n",
    "# Display the plot\n",
    "plt.show()"
   ]
  },
  {
   "cell_type": "markdown",
   "metadata": {},
   "source": [
    "Most states appear to have a greater proportion of people who have exercised within the last 30 days, with a noticeable inconsistency in the South--particularly in Alabama, Mississippi, and Arkansas having a much greater value than other states. This indicates lower average exercise for surveyed people in this specific region than most states."
   ]
  },
  {
   "cell_type": "markdown",
   "metadata": {},
   "source": [
    "### Out of People Who Used Marijuana, Average Number of Days Used Within Last Month"
   ]
  },
  {
   "cell_type": "code",
   "execution_count": 40,
   "metadata": {},
   "outputs": [
    {
     "data": {
      "image/png": "[encoded data removed]",
      "text/plain": [
       "<Figure size 720x720 with 2 Axes>"
      ]
     },
     "metadata": {},
     "output_type": "display_data"
    }
   ],
   "source": [
    "fig, ax = plt.subplots(figsize=(10, 10))\n",
    "\n",
    "map_means.plot(ax=ax,column='MARIJAN1',legend=True)\n",
    "\n",
    "# Add a title to the plot\n",
    "plt.title('Proportion of Days People Have Used Marijuana Within the Last 30 Days')\n",
    "\n",
    "# Display the plot\n",
    "plt.show()"
   ]
  },
  {
   "cell_type": "markdown",
   "metadata": {},
   "source": [
    "Out of people surveyed, only a small proportion of states had responses for marijuana use. Out of states with available data, Maine and Alaska have noteably much higher marijuana use per month on average than other visible states."
   ]
  },
  {
   "cell_type": "markdown",
   "metadata": {},
   "source": [
    "### Average Number of Drinks per Day Drinking"
   ]
  },
  {
   "cell_type": "code",
   "execution_count": 41,
   "metadata": {},
   "outputs": [
    {
     "data": {
      "image/png": "[encoded data removed]",
      "text/plain": [
       "<Figure size 720x720 with 2 Axes>"
      ]
     },
     "metadata": {},
     "output_type": "display_data"
    }
   ],
   "source": [
    "fig, ax = plt.subplots(figsize=(10, 10))\n",
    "\n",
    "map_means.plot(ax=ax,column='AVEDRNK3',legend=True)\n",
    "\n",
    "# Add a title to the plot\n",
    "plt.title('Proportion of Drinks Drunk on Days Gone Drinking')\n",
    "\n",
    "# Display the plot\n",
    "plt.show()"
   ]
  },
  {
   "cell_type": "markdown",
   "metadata": {},
   "source": [
    "Alaska and Kentucky have much higher average number of drinks drinken per day gone drinking than any other state. The (central) North United States appears to have higher general trend of average drinks than other areas of the United States."
   ]
  },
  {
   "cell_type": "markdown",
   "metadata": {},
   "source": [
    "### Proportion of General Smoking Consistency"
   ]
  },
  {
   "cell_type": "code",
   "execution_count": 42,
   "metadata": {},
   "outputs": [
    {
     "data": {
      "text/html": [
       "<div>\n",
       "<style scoped>\n",
       "    .dataframe tbody tr th:only-of-type {\n",
       "        vertical-align: middle;\n",
       "    }\n",
       "\n",
       "    .dataframe tbody tr th {\n",
       "        vertical-align: top;\n",
       "    }\n",
       "\n",
       "    .dataframe thead th {\n",
       "        text-align: right;\n",
       "    }\n",
       "</style>\n",
       "<table border=\"1\" class=\"dataframe\">\n",
       "  <thead>\n",
       "    <tr style=\"text-align: right;\">\n",
       "      <th></th>\n",
       "      <th>State_Code</th>\n",
       "      <th>SMOKDAY2</th>\n",
       "      <th>proportion</th>\n",
       "    </tr>\n",
       "  </thead>\n",
       "  <tbody>\n",
       "    <tr>\n",
       "      <th>48</th>\n",
       "      <td>KY</td>\n",
       "      <td>1.0</td>\n",
       "      <td>0.454780</td>\n",
       "    </tr>\n",
       "    <tr>\n",
       "      <th>103</th>\n",
       "      <td>OH</td>\n",
       "      <td>1.0</td>\n",
       "      <td>0.378378</td>\n",
       "    </tr>\n",
       "    <tr>\n",
       "      <th>43</th>\n",
       "      <td>IN</td>\n",
       "      <td>1.0</td>\n",
       "      <td>0.372951</td>\n",
       "    </tr>\n",
       "    <tr>\n",
       "      <th>1</th>\n",
       "      <td>AK</td>\n",
       "      <td>1.0</td>\n",
       "      <td>0.353459</td>\n",
       "    </tr>\n",
       "    <tr>\n",
       "      <th>82</th>\n",
       "      <td>ND</td>\n",
       "      <td>1.0</td>\n",
       "      <td>0.351421</td>\n",
       "    </tr>\n",
       "    <tr>\n",
       "      <th>61</th>\n",
       "      <td>ME</td>\n",
       "      <td>1.0</td>\n",
       "      <td>0.332664</td>\n",
       "    </tr>\n",
       "    <tr>\n",
       "      <th>76</th>\n",
       "      <td>MT</td>\n",
       "      <td>1.0</td>\n",
       "      <td>0.323970</td>\n",
       "    </tr>\n",
       "    <tr>\n",
       "      <th>37</th>\n",
       "      <td>ID</td>\n",
       "      <td>1.0</td>\n",
       "      <td>0.319048</td>\n",
       "    </tr>\n",
       "    <tr>\n",
       "      <th>40</th>\n",
       "      <td>IL</td>\n",
       "      <td>1.0</td>\n",
       "      <td>0.318452</td>\n",
       "    </tr>\n",
       "    <tr>\n",
       "      <th>145</th>\n",
       "      <td>WV</td>\n",
       "      <td>1.0</td>\n",
       "      <td>0.317433</td>\n",
       "    </tr>\n",
       "  </tbody>\n",
       "</table>\n",
       "</div>"
      ],
      "text/plain": [
       "    State_Code  SMOKDAY2  proportion\n",
       "48          KY       1.0    0.454780\n",
       "103         OH       1.0    0.378378\n",
       "43          IN       1.0    0.372951\n",
       "1           AK       1.0    0.353459\n",
       "82          ND       1.0    0.351421\n",
       "61          ME       1.0    0.332664\n",
       "76          MT       1.0    0.323970\n",
       "37          ID       1.0    0.319048\n",
       "40          IL       1.0    0.318452\n",
       "145         WV       1.0    0.317433"
      ]
     },
     "execution_count": 42,
     "metadata": {},
     "output_type": "execute_result"
    }
   ],
   "source": [
    "# Calculating Proportions of People not Exercising within Last Month\n",
    "props_smoke = props.groupby('State_Code')['SMOKDAY2'].value_counts(normalize = True).to_frame()\n",
    "props_smoke.columns = ['proportion']\n",
    "props_smoke = props_smoke.reset_index()\n",
    "props_smokers = props_smoke[props_smoke['SMOKDAY2'] == 1]\n",
    "props_smokers = props_smokers.sort_values('proportion', ascending = False)\n",
    "props_smokers.head(10)"
   ]
  },
  {
   "cell_type": "code",
   "execution_count": 43,
   "metadata": {},
   "outputs": [
    {
     "data": {
      "text/plain": [
       "Text(0, 0.5, 'Proportion of People Smoking Everyday')"
      ]
     },
     "execution_count": 43,
     "metadata": {},
     "output_type": "execute_result"
    },
    {
     "data": {
      "image/png": "[encoded data removed]",
      "text/plain": [
       "<Figure size 432x288 with 1 Axes>"
      ]
     },
     "metadata": {},
     "output_type": "display_data"
    }
   ],
   "source": [
    "top_10_smokers = props_smokers.head(10)\n",
    "top_10_smokers.plot.bar(x = 'State_Code', y = 'proportion', rot = 0)\n",
    "\n",
    "# Add a title to the plot and label axes\n",
    "plt.style.use('fivethirtyeight')\n",
    "plt.title(\"Most Daily Smokers\")\n",
    "plt.xlabel('State')\n",
    "plt.ylabel('Proportion of People Smoking Everyday', size = 10)"
   ]
  },
  {
   "cell_type": "code",
   "execution_count": 44,
   "metadata": {},
   "outputs": [
    {
     "data": {
      "text/plain": [
       "Text(0, 0.5, 'Proportion of People Smoking Everyday')"
      ]
     },
     "execution_count": 44,
     "metadata": {},
     "output_type": "execute_result"
    },
    {
     "data": {
      "image/png": "[encoded data removed]",
      "text/plain": [
       "<Figure size 432x288 with 1 Axes>"
      ]
     },
     "metadata": {},
     "output_type": "display_data"
    }
   ],
   "source": [
    "bot_10_smokers = props_smokers.tail(10).sort_values('proportion', ascending = True)\n",
    "bot_10_smokers.plot.bar(x = 'State_Code', y = 'proportion', rot = 0)\n",
    "\n",
    "# Add a title to the plot and label axes\n",
    "plt.style.use('fivethirtyeight')\n",
    "plt.title(\"Least Daily Smokers\")\n",
    "plt.xlabel('State')\n",
    "plt.ylabel('Proportion of People Smoking Everyday', size = 10)"
   ]
  },
  {
   "cell_type": "markdown",
   "metadata": {},
   "source": [
    "From these graphs, we can see that Kentucky is a bit of an outlier with more than 45% of the population smoking everyday with the rest of the states falling between 14-38%. Since smoking is a contributing factor to many cardiovascular and respiratory illnesses, the amount of smokers in a state should be indicative of that state's general health outlook."
   ]
  },
  {
   "cell_type": "code",
   "execution_count": 45,
   "metadata": {},
   "outputs": [
    {
     "data": {
      "image/png": "[encoded data removed]",
      "text/plain": [
       "<Figure size 720x720 with 2 Axes>"
      ]
     },
     "metadata": {},
     "output_type": "display_data"
    }
   ],
   "source": [
    "fig, ax = plt.subplots(figsize=(10, 10))\n",
    "\n",
    "map_means.plot(ax=ax,column='SMOKDAY2',legend=True)\n",
    "\n",
    "# Add a title to the plot\n",
    "plt.title('Proportion of Smoking Consistency')\n",
    "plt.text(0.5, 0.95, 'Lower value indicates people smoke more often', transform=ax.transAxes, ha='center')\n",
    "\n",
    "# Display the plot\n",
    "plt.show()"
   ]
  },
  {
   "cell_type": "markdown",
   "metadata": {},
   "source": [
    "The North and Midwest appear to have much greater rates of smoking than the rest of the United States, with Kentucky having the greatest rate of smoking."
   ]
  },
  {
   "cell_type": "markdown",
   "metadata": {},
   "source": [
    "### Average Education Levels"
   ]
  },
  {
   "cell_type": "code",
   "execution_count": 46,
   "metadata": {},
   "outputs": [
    {
     "data": {
      "image/png": "[encoded data removed]",
      "text/plain": [
       "<Figure size 720x720 with 2 Axes>"
      ]
     },
     "metadata": {},
     "output_type": "display_data"
    }
   ],
   "source": [
    "fig, ax = plt.subplots(figsize=(10, 10))\n",
    "\n",
    "map_means.plot(ax=ax,column='EDUCA',legend=True)\n",
    "\n",
    "# Add a title to the plot\n",
    "plt.title('Average Education Levels')\n",
    "plt.text(0.5, 0.95, 'Lower value indicates lower levels of education', transform=ax.transAxes, ha='center')\n",
    "\n",
    "# Display the plot\n",
    "plt.show()"
   ]
  },
  {
   "cell_type": "markdown",
   "metadata": {},
   "source": [
    "There is no noticeable outliers for average education level. Most states appear to be within the same general interval of average education."
   ]
  },
  {
   "cell_type": "markdown",
   "metadata": {},
   "source": [
    "## Data Analysis"
   ]
  },
  {
   "cell_type": "markdown",
   "metadata": {},
   "source": [
    "### Developing a Health Index Utilizing PCA"
   ]
  },
  {
   "cell_type": "code",
   "execution_count": 47,
   "metadata": {},
   "outputs": [
    {
     "data": {
      "text/html": [
       "<div>\n",
       "<style scoped>\n",
       "    .dataframe tbody tr th:only-of-type {\n",
       "        vertical-align: middle;\n",
       "    }\n",
       "\n",
       "    .dataframe tbody tr th {\n",
       "        vertical-align: top;\n",
       "    }\n",
       "\n",
       "    .dataframe thead th {\n",
       "        text-align: right;\n",
       "    }\n",
       "</style>\n",
       "<table border=\"1\" class=\"dataframe\">\n",
       "  <thead>\n",
       "    <tr style=\"text-align: right;\">\n",
       "      <th></th>\n",
       "      <th>PRIMINSR</th>\n",
       "      <th>PERSDOC3</th>\n",
       "      <th>MEDCOST1</th>\n",
       "      <th>CHECKUP1</th>\n",
       "      <th>EXERANY2</th>\n",
       "      <th>BPMEDS</th>\n",
       "      <th>CHOLMED3</th>\n",
       "      <th>CVDINFR4</th>\n",
       "      <th>CVDCRHD4</th>\n",
       "      <th>CVDSTRK3</th>\n",
       "      <th>...</th>\n",
       "      <th>HAVEHEPC</th>\n",
       "      <th>HAVEHEPB</th>\n",
       "      <th>MEDSHEPB</th>\n",
       "      <th>HPVADVC4</th>\n",
       "      <th>TETANUS1</th>\n",
       "      <th>SHINGLE2</th>\n",
       "      <th>DRADVISE</th>\n",
       "      <th>CIMEMLOS</th>\n",
       "      <th>MARIJAN1</th>\n",
       "      <th>USEMRJN3</th>\n",
       "    </tr>\n",
       "    <tr>\n",
       "      <th>State_Name</th>\n",
       "      <th></th>\n",
       "      <th></th>\n",
       "      <th></th>\n",
       "      <th></th>\n",
       "      <th></th>\n",
       "      <th></th>\n",
       "      <th></th>\n",
       "      <th></th>\n",
       "      <th></th>\n",
       "      <th></th>\n",
       "      <th></th>\n",
       "      <th></th>\n",
       "      <th></th>\n",
       "      <th></th>\n",
       "      <th></th>\n",
       "      <th></th>\n",
       "      <th></th>\n",
       "      <th></th>\n",
       "      <th></th>\n",
       "      <th></th>\n",
       "      <th></th>\n",
       "    </tr>\n",
       "  </thead>\n",
       "  <tbody>\n",
       "    <tr>\n",
       "      <th>alabama</th>\n",
       "      <td>9.645288</td>\n",
       "      <td>1.542103</td>\n",
       "      <td>1.928665</td>\n",
       "      <td>1.361911</td>\n",
       "      <td>1.345332</td>\n",
       "      <td>1.114514</td>\n",
       "      <td>1.665932</td>\n",
       "      <td>1.959860</td>\n",
       "      <td>1.981021</td>\n",
       "      <td>1.958551</td>\n",
       "      <td>...</td>\n",
       "      <td>NaN</td>\n",
       "      <td>NaN</td>\n",
       "      <td>NaN</td>\n",
       "      <td>NaN</td>\n",
       "      <td>NaN</td>\n",
       "      <td>NaN</td>\n",
       "      <td>NaN</td>\n",
       "      <td>NaN</td>\n",
       "      <td>NaN</td>\n",
       "      <td>NaN</td>\n",
       "    </tr>\n",
       "    <tr>\n",
       "      <th>alaska</th>\n",
       "      <td>12.876570</td>\n",
       "      <td>1.835245</td>\n",
       "      <td>1.949026</td>\n",
       "      <td>1.748953</td>\n",
       "      <td>1.228291</td>\n",
       "      <td>1.293380</td>\n",
       "      <td>1.788946</td>\n",
       "      <td>1.988167</td>\n",
       "      <td>1.999636</td>\n",
       "      <td>1.980885</td>\n",
       "      <td>...</td>\n",
       "      <td>NaN</td>\n",
       "      <td>NaN</td>\n",
       "      <td>NaN</td>\n",
       "      <td>NaN</td>\n",
       "      <td>NaN</td>\n",
       "      <td>NaN</td>\n",
       "      <td>NaN</td>\n",
       "      <td>NaN</td>\n",
       "      <td>75.588151</td>\n",
       "      <td>1.549312</td>\n",
       "    </tr>\n",
       "    <tr>\n",
       "      <th>arizona</th>\n",
       "      <td>11.658250</td>\n",
       "      <td>1.628496</td>\n",
       "      <td>1.934860</td>\n",
       "      <td>1.530599</td>\n",
       "      <td>1.238971</td>\n",
       "      <td>1.228291</td>\n",
       "      <td>1.743327</td>\n",
       "      <td>1.969870</td>\n",
       "      <td>1.985170</td>\n",
       "      <td>1.972686</td>\n",
       "      <td>...</td>\n",
       "      <td>NaN</td>\n",
       "      <td>NaN</td>\n",
       "      <td>NaN</td>\n",
       "      <td>NaN</td>\n",
       "      <td>NaN</td>\n",
       "      <td>NaN</td>\n",
       "      <td>NaN</td>\n",
       "      <td>NaN</td>\n",
       "      <td>NaN</td>\n",
       "      <td>NaN</td>\n",
       "    </tr>\n",
       "    <tr>\n",
       "      <th>arkansas</th>\n",
       "      <td>10.907669</td>\n",
       "      <td>1.532390</td>\n",
       "      <td>1.952159</td>\n",
       "      <td>1.364110</td>\n",
       "      <td>1.360015</td>\n",
       "      <td>1.135896</td>\n",
       "      <td>1.637071</td>\n",
       "      <td>1.960164</td>\n",
       "      <td>1.987342</td>\n",
       "      <td>1.959605</td>\n",
       "      <td>...</td>\n",
       "      <td>NaN</td>\n",
       "      <td>NaN</td>\n",
       "      <td>NaN</td>\n",
       "      <td>NaN</td>\n",
       "      <td>NaN</td>\n",
       "      <td>NaN</td>\n",
       "      <td>NaN</td>\n",
       "      <td>NaN</td>\n",
       "      <td>NaN</td>\n",
       "      <td>NaN</td>\n",
       "    </tr>\n",
       "    <tr>\n",
       "      <th>california</th>\n",
       "      <td>11.116258</td>\n",
       "      <td>1.611284</td>\n",
       "      <td>1.917595</td>\n",
       "      <td>1.639050</td>\n",
       "      <td>1.193912</td>\n",
       "      <td>1.259740</td>\n",
       "      <td>1.770241</td>\n",
       "      <td>1.987676</td>\n",
       "      <td>1.994358</td>\n",
       "      <td>1.983964</td>\n",
       "      <td>...</td>\n",
       "      <td>NaN</td>\n",
       "      <td>NaN</td>\n",
       "      <td>NaN</td>\n",
       "      <td>NaN</td>\n",
       "      <td>NaN</td>\n",
       "      <td>NaN</td>\n",
       "      <td>NaN</td>\n",
       "      <td>NaN</td>\n",
       "      <td>NaN</td>\n",
       "      <td>NaN</td>\n",
       "    </tr>\n",
       "  </tbody>\n",
       "</table>\n",
       "<p>5 rows × 66 columns</p>\n",
       "</div>"
      ],
      "text/plain": [
       "             PRIMINSR  PERSDOC3  MEDCOST1  CHECKUP1  EXERANY2    BPMEDS  \\\n",
       "State_Name                                                                \n",
       "alabama      9.645288  1.542103  1.928665  1.361911  1.345332  1.114514   \n",
       "alaska      12.876570  1.835245  1.949026  1.748953  1.228291  1.293380   \n",
       "arizona     11.658250  1.628496  1.934860  1.530599  1.238971  1.228291   \n",
       "arkansas    10.907669  1.532390  1.952159  1.364110  1.360015  1.135896   \n",
       "california  11.116258  1.611284  1.917595  1.639050  1.193912  1.259740   \n",
       "\n",
       "            CHOLMED3  CVDINFR4  CVDCRHD4  CVDSTRK3  ...  HAVEHEPC  HAVEHEPB  \\\n",
       "State_Name                                          ...                       \n",
       "alabama     1.665932  1.959860  1.981021  1.958551  ...       NaN       NaN   \n",
       "alaska      1.788946  1.988167  1.999636  1.980885  ...       NaN       NaN   \n",
       "arizona     1.743327  1.969870  1.985170  1.972686  ...       NaN       NaN   \n",
       "arkansas    1.637071  1.960164  1.987342  1.959605  ...       NaN       NaN   \n",
       "california  1.770241  1.987676  1.994358  1.983964  ...       NaN       NaN   \n",
       "\n",
       "            MEDSHEPB  HPVADVC4  TETANUS1  SHINGLE2  DRADVISE  CIMEMLOS  \\\n",
       "State_Name                                                               \n",
       "alabama          NaN       NaN       NaN       NaN       NaN       NaN   \n",
       "alaska           NaN       NaN       NaN       NaN       NaN       NaN   \n",
       "arizona          NaN       NaN       NaN       NaN       NaN       NaN   \n",
       "arkansas         NaN       NaN       NaN       NaN       NaN       NaN   \n",
       "california       NaN       NaN       NaN       NaN       NaN       NaN   \n",
       "\n",
       "             MARIJAN1  USEMRJN3  \n",
       "State_Name                       \n",
       "alabama           NaN       NaN  \n",
       "alaska      75.588151  1.549312  \n",
       "arizona           NaN       NaN  \n",
       "arkansas          NaN       NaN  \n",
       "california        NaN       NaN  \n",
       "\n",
       "[5 rows x 66 columns]"
      ]
     },
     "execution_count": 47,
     "metadata": {},
     "output_type": "execute_result"
    }
   ],
   "source": [
    "# Averaging observations by state to reduce inertia\n",
    "means = brfss_state.groupby('State_Name').mean().drop('_STATE',axis=1)\n",
    "means.head()"
   ]
  },
  {
   "cell_type": "markdown",
   "metadata": {},
   "source": [
    "#### PCA"
   ]
  },
  {
   "cell_type": "code",
   "execution_count": 48,
   "metadata": {},
   "outputs": [
    {
     "name": "stdout",
     "output_type": "stream",
     "text": [
      "Number of components: 21\n"
     ]
    }
   ],
   "source": [
    "# Impute missing values\n",
    "imputer = SimpleImputer(strategy='mean')\n",
    "df_imputed = pd.DataFrame(imputer.fit_transform(means), columns=means.columns)\n",
    "\n",
    "# Standardize the data\n",
    "scaler = StandardScaler()\n",
    "data_scaled = scaler.fit_transform(df_imputed)\n",
    "\n",
    "# Run PCA\n",
    "pca = PCA()\n",
    "pca.fit(data_scaled)\n",
    "\n",
    "# Calculate cumulative explained variance ratio\n",
    "cumulative_variance_ratio = np.cumsum(pca.explained_variance_ratio_)\n",
    "\n",
    "# Determine the suitable number of components\n",
    "n_components = np.argmax(cumulative_variance_ratio >= 0.95) + 1\n",
    "\n",
    "print(\"Number of components:\", n_components)"
   ]
  },
  {
   "cell_type": "code",
   "execution_count": 49,
   "metadata": {},
   "outputs": [
    {
     "name": "stdout",
     "output_type": "stream",
     "text": [
      "          PC1       PC2        PC3       PC4       PC5       PC6       PC7  \\\n",
      "0    7.016342  1.986123   0.166886  0.446807 -1.127145  0.717018  0.280657   \n",
      "1   -3.515399 -3.901089  -0.706313 -3.072504  2.355876  1.574207 -3.929960   \n",
      "2    0.364682  1.298225   0.236234 -2.130757 -1.591581  0.713195 -1.004402   \n",
      "3    8.433929  2.807751   1.097998  2.167576  0.737139 -0.223916 -1.265137   \n",
      "4   -4.345191 -0.967487  -0.289710 -4.462249 -3.769232  0.980714  0.269893   \n",
      "5   -5.873784 -2.454268  -0.142250 -1.912352 -0.049915  0.443746 -0.581898   \n",
      "6   -4.765981  0.993287   0.231447  1.936418 -1.213430  0.192717 -0.070684   \n",
      "7    0.822136  3.118727   1.689199 -0.316632 -3.913042 -1.289007 -1.199112   \n",
      "8   -8.673459  0.906575   0.113051  1.838448 -1.970879  0.376274  1.410677   \n",
      "9    2.502880 -0.337631  13.866546 -1.244696  0.673388  1.638348  0.111111   \n",
      "10  -4.191351  0.550593  -0.618370 -3.691503 -2.193803  0.924172  1.933147   \n",
      "11   0.172119 -2.209920  -0.447367 -0.856532  1.940194  0.422150  1.549840   \n",
      "12  -1.956481 -1.693719   0.276638  2.020771 -0.108218  0.623143  2.060208   \n",
      "13   0.886497 -0.923486   1.020482  2.445771  0.291770 -1.345218 -0.278810   \n",
      "14  -0.577368 -0.203773   0.111533  0.503086  1.191207 -4.027911 -0.700234   \n",
      "15   0.520588  0.055550  -0.784544 -0.719727  1.686956 -0.975595  0.594936   \n",
      "16   8.475049 -3.211297  -0.207319  1.359920 -0.809795  0.729535  2.143470   \n",
      "17   4.627885 -2.976553  -9.799672  2.440924 -2.786530 -0.011605 -1.672723   \n",
      "18   1.586402  5.234517  -1.077369  1.473196  2.155598  4.445076 -0.119216   \n",
      "19  -2.767001  2.630079   1.011231  1.107976 -2.226212 -0.605765 -0.283650   \n",
      "20  -6.398739  0.123275  -0.238681  2.685624  0.206269  0.988206  2.291488   \n",
      "21  -0.028476  2.543425   0.097471  0.718285 -0.581701 -0.188549 -0.228831   \n",
      "22  -3.492413  1.659896  -1.026924 -1.993107  0.683742 -1.834370  1.019598   \n",
      "23  10.772561 -2.956998   0.539189  0.413842 -2.287435  0.372717  0.405113   \n",
      "24   4.961668 -1.586741  -0.347053 -0.455871  1.203874  0.084834  0.196982   \n",
      "25   0.754393  0.061580  -1.231109 -3.456082  1.626655 -0.938489 -0.689742   \n",
      "26   1.071835  2.407996  -0.793788 -2.358084  0.850424 -3.094409 -0.058201   \n",
      "27   0.573097 -1.145082   0.089469 -1.358926 -0.474193  1.842462 -1.414563   \n",
      "28   0.011372  7.488851   0.196078  2.306426 -0.660294  1.109283 -0.779369   \n",
      "29  -6.351764 -5.835717   1.225302  5.913288 -2.050285 -1.641700 -1.463076   \n",
      "30   1.075040 -0.599890  -0.577483 -4.567020 -2.666819 -0.334144  1.131254   \n",
      "31  -0.943870 -0.518838   1.100524  3.698930 -0.610023 -0.439844 -0.902046   \n",
      "32  -0.757797 -2.213385   0.643963  0.059051 -1.403281 -0.199040  0.003865   \n",
      "33   2.185506  0.993361  -0.542148 -0.363627  4.088472 -3.073828 -0.171624   \n",
      "34  -3.515399 -3.901089  -0.706313 -3.072504  2.355876  1.574207 -3.929960   \n",
      "35   3.686171  1.054221  -0.471646 -0.532392  0.075856 -0.679005  0.544948   \n",
      "36   3.181306 -5.638121  -0.564092  1.303071  3.865067  3.068504  1.768319   \n",
      "37  -3.963281 -2.138727  -1.335563  0.052665  1.969640  4.080612  2.268520   \n",
      "38  -0.705705 -0.935390  -0.574821  0.985120 -0.509793  1.198798  1.230174   \n",
      "39  -3.560734  2.403231  -0.254552  2.202955 -1.354124  1.192284 -0.123602   \n",
      "40   3.219503  1.070979   1.538986  2.487817 -0.198489 -1.203198 -1.395144   \n",
      "41   0.363014 -1.053022  -0.020097  0.595202  3.525278 -2.895652 -0.446007   \n",
      "42   3.743972 -1.940076  -0.132921 -0.978908 -0.110688 -0.013501 -1.004734   \n",
      "43  -0.114544 -6.179472   2.113584  0.109762 -2.791985 -1.539113 -2.671960   \n",
      "44  -4.761140 -4.247775   0.314787 -1.271864  0.805651 -3.271212  4.533780   \n",
      "45  -4.631862  4.411616  -1.217058  0.191826  2.411830  2.354979 -2.394206   \n",
      "46  -4.771950  2.803108  -0.559048  3.280718  3.324078 -1.182153  0.501801   \n",
      "47  -2.586294  3.733673  -0.274242 -1.306331 -1.098714  1.722193 -0.330663   \n",
      "48   9.880370  0.397932  -1.420790 -0.649590 -0.614582  1.725827  1.834158   \n",
      "49  -0.039800  6.186832  -1.505832 -2.680700 -0.583891 -2.229666  1.304266   \n",
      "50   2.401466  2.848139   0.186478 -1.293517  1.731238 -1.858307 -0.278649   \n",
      "\n",
      "         PC8       PC9      PC10  ...      PC12      PC13      PC14      PC15  \\\n",
      "0  -0.880619 -0.426947 -1.036061  ...  0.802228  0.517719  0.736078 -1.158903   \n",
      "1   1.525981 -0.039726  0.015575  ... -0.473657 -0.393925 -0.801385 -0.323967   \n",
      "2  -2.158870  1.014925  1.236106  ... -0.338272 -0.201033 -0.409348 -0.964843   \n",
      "3  -0.961451  1.621909  1.462883  ... -0.450584 -0.041892 -0.539158  0.030000   \n",
      "4  -0.763254  0.504264  0.404840  ...  0.825763  2.633427  0.957387 -0.819905   \n",
      "5  -1.380289 -0.394247 -0.837866  ... -0.160684 -1.162641 -0.379401 -0.014746   \n",
      "6   0.086445 -0.978188 -0.342382  ... -0.255008 -0.223025  0.235699  1.048390   \n",
      "7   0.092171  1.941345  0.141659  ... -0.283451 -1.240818  0.493147  0.538883   \n",
      "8   2.712150 -0.459599  0.864425  ...  4.061958  1.372370 -1.465076 -0.929833   \n",
      "9   0.754352  0.159014 -1.081253  ...  1.621575 -0.502042  1.939084  0.024057   \n",
      "10  4.525287  4.889911  0.306500  ... -3.332233 -0.990567  0.734287 -0.828174   \n",
      "11 -3.286817 -0.250055  0.981399  ...  0.022525  0.271849  0.933578 -0.466521   \n",
      "12  0.715858 -0.918907  0.712283  ... -1.052786  1.264614 -0.217103  3.691313   \n",
      "13 -0.187508  0.175215 -0.290250  ...  1.142497 -0.470030 -0.063731 -1.193398   \n",
      "14  0.630894 -0.976360 -1.830841  ... -0.620493  0.125710  0.192135  0.230119   \n",
      "15  0.309975  0.285554 -0.964718  ...  0.034600 -0.557594  0.637038 -0.011694   \n",
      "16  2.650586 -0.838832 -0.562108  ...  0.355658 -0.673775 -2.448426 -0.617811   \n",
      "17 -0.173803  1.580265 -0.620308  ...  2.249925 -0.770038  2.567575  0.496549   \n",
      "18  0.082345 -1.342632  0.400568  ... -2.257970  0.888360  1.528819 -0.090447   \n",
      "19 -0.461650  1.197022  1.241496  ...  1.116291  0.580025  0.754374 -0.261406   \n",
      "20  0.845180 -0.859160 -0.445046  ... -0.464580 -0.100244  0.146197  1.329520   \n",
      "21 -0.753251 -0.598964 -0.584737  ...  0.449675 -0.750962 -0.096374 -0.362947   \n",
      "22 -0.443264 -1.166738 -0.093740  ...  0.447042 -0.135547  0.807972  0.338074   \n",
      "23  0.569339 -1.199254  0.001676  ... -1.619615  1.380515  0.073719 -0.018392   \n",
      "24  0.643921 -1.135391 -0.376492  ... -0.676226  0.462244 -0.420823 -0.139325   \n",
      "25  0.826684 -1.707163  0.858999  ...  0.471883  0.298166 -0.564676  0.208446   \n",
      "26  0.968652 -0.486189 -0.457188  ... -0.114787  0.584766  0.815882  0.552127   \n",
      "27 -0.612704  0.123018  1.319259  ... -0.360941  2.015237 -0.532571  1.825325   \n",
      "28 -1.410282  1.534909  0.913868  ... -1.020960 -1.763379 -1.134065  1.092106   \n",
      "29  0.337034 -2.158422  3.214389  ... -2.554143  0.160185  0.846077 -2.288076   \n",
      "30  0.601023 -0.570932  0.810025  ...  0.619654  1.774661 -0.935392  0.979294   \n",
      "31  1.164339 -0.433558  0.127466  ...  0.020595 -0.179959 -0.431541 -0.168213   \n",
      "32 -0.067533 -0.787060 -1.400137  ... -0.474206 -0.570973 -0.043048 -0.736489   \n",
      "33  2.080825 -0.731832  2.003269  ...  1.321855 -0.432454  1.081192  0.023504   \n",
      "34  1.525981 -0.039726  0.015575  ... -0.473657 -0.393925 -0.801385 -0.323967   \n",
      "35 -0.133427 -0.467588 -0.475908  ...  0.251766 -0.004471 -0.462449 -0.844018   \n",
      "36  0.477271  4.210285  1.031377  ...  1.674174 -0.753759  1.441150  0.720085   \n",
      "37 -1.572885 -1.342650  0.915797  ...  0.916630 -1.968050 -1.539081 -0.586615   \n",
      "38  1.115577 -1.385240 -1.229516  ... -0.030419 -0.519187  0.106059  0.069210   \n",
      "39  1.370670 -0.916082 -1.791667  ...  0.004907 -0.361131  0.674513  0.397649   \n",
      "40 -0.117542  0.447970  1.201660  ...  0.231617  0.918028 -0.251937  0.541731   \n",
      "41  1.463484  0.853961  0.307333  ...  0.038094  0.261875  0.271702  0.479743   \n",
      "42 -1.192382  0.085428 -2.349822  ... -0.374390  0.782839  0.845627 -0.662905   \n",
      "43 -2.564825  1.165439 -1.779210  ...  0.320076 -1.490959 -1.794925  1.937532   \n",
      "44 -4.276124  0.209977 -0.197529  ... -1.419457 -0.354336  0.714319 -0.176516   \n",
      "45 -1.337355 -2.296435 -2.122184  ... -0.103673  0.853478  0.885476 -0.041015   \n",
      "46 -0.929467  4.814338 -3.061051  ... -0.437645  2.849131 -2.262569 -1.164654   \n",
      "47 -1.969825  0.406751  1.215185  ...  0.898822 -0.723179 -0.082196 -0.415768   \n",
      "48 -0.457601 -1.066109 -0.721794  ... -0.641944  0.031724 -1.177790 -0.839212   \n",
      "49  1.384630 -1.614338 -0.727793  ... -0.028045 -2.231783 -0.435918 -0.060036   \n",
      "50 -1.367924  0.366825  3.675991  ...  0.120015 -0.065245 -1.128716 -0.043862   \n",
      "\n",
      "        PC16      PC17      PC18      PC19      PC20      PC21  \n",
      "0  -0.809974 -0.532723 -0.958006  1.212338  0.554781 -0.901934  \n",
      "1   0.096690  0.306764  0.364079  0.685083 -0.528668 -0.828711  \n",
      "2  -0.077794  0.855960 -0.260792 -0.534650 -0.260262  0.021413  \n",
      "3   1.213028 -0.743259 -0.462060  0.113021  0.912368  0.081073  \n",
      "4  -0.149757  0.779537 -1.547746 -0.933363  0.367819  0.443216  \n",
      "5   0.268261  0.198116  0.613539  0.820983  0.335795 -0.078372  \n",
      "6  -0.321373  0.471346  0.968307 -0.445982 -1.009023 -0.256213  \n",
      "7   1.101937  2.961349  0.022014  0.034266 -0.196587 -0.894214  \n",
      "8   1.448911 -1.285525 -1.069567  0.961455 -0.498304 -0.910921  \n",
      "9   0.226558 -0.349775  0.215346 -0.139467 -0.195028  0.633750  \n",
      "10 -0.605593 -1.686011  0.083184 -0.584976  0.465507  0.703077  \n",
      "11 -0.465107  0.763544  0.081545 -1.495246 -0.640830  0.646658  \n",
      "12 -0.987759  0.356596  0.493657  1.249212  0.346881 -0.110379  \n",
      "13  0.131689  0.129471  2.145929 -0.148694  0.454983  0.756234  \n",
      "14  2.382339  0.872665 -1.167454 -0.796730 -0.467416  0.681974  \n",
      "15  0.078028  0.107700 -0.423570  0.374770  0.205839  0.049937  \n",
      "16  0.485874  0.225737  0.057324 -1.919636 -0.011429 -0.476486  \n",
      "17  0.351927 -0.373129  0.465098 -0.035823 -0.195116  0.793324  \n",
      "18  0.851117  0.744874  0.255230  0.613057 -0.070398  0.090138  \n",
      "19 -0.914801  0.690247  0.447265  0.604716  0.425516 -0.720028  \n",
      "20 -0.081984  0.131257  0.110421 -1.139092  2.042120 -0.696434  \n",
      "21 -0.095896 -0.083898  0.862206 -0.109890  0.038745 -0.504647  \n",
      "22 -0.535805  0.362949  0.737307 -0.345320  0.557564 -0.917211  \n",
      "23 -1.857930  0.773540 -1.498033 -0.084045 -1.223850 -0.788199  \n",
      "24  1.610441 -0.048368  0.152184  0.381917  0.787305  0.416786  \n",
      "25 -1.019478 -0.312170  0.122771 -0.667310 -1.397885 -0.325331  \n",
      "26  0.240901  0.502850 -1.442738  0.305805  0.180981  0.349769  \n",
      "27  0.987696 -0.300928  0.362321  0.578052  0.697504  0.765733  \n",
      "28  1.236936 -0.941943 -0.968382 -0.661799 -0.765241 -1.176136  \n",
      "29  0.257733 -0.411005 -0.752876  0.087166  0.431106  0.126440  \n",
      "30  1.373824 -0.350395  1.428480 -0.521470 -0.215678  0.685660  \n",
      "31  0.067897  0.333858  1.271629 -0.568492 -1.230314  1.288344  \n",
      "32 -1.023402  0.429668  0.638311  2.129612  0.411289  0.268429  \n",
      "33 -2.112704 -0.348154 -0.301207 -0.538234  0.908114 -0.466692  \n",
      "34  0.096690  0.306764  0.364079  0.685083 -0.528668 -0.828711  \n",
      "35 -0.052123  0.692002  0.725909 -0.088332  0.593309 -0.016297  \n",
      "36  0.415819  0.252106 -0.624015  0.348987 -0.935855 -0.241967  \n",
      "37 -0.018470  1.443172 -1.535044  0.136542  0.931287  1.315165  \n",
      "38 -0.507850  0.504252  0.377361 -1.015708 -0.245248 -0.649038  \n",
      "39 -0.998388 -0.699113  0.068522 -0.508834 -1.194971  0.424749  \n",
      "40 -0.590121 -0.693309 -0.090278  1.200056 -0.562502  0.985466  \n",
      "41  0.922164  0.159371 -0.625304  0.173310  0.516094 -0.381054  \n",
      "42  0.890655 -0.966856  1.077061 -0.598400  1.375279 -1.125564  \n",
      "43 -1.412634 -1.172403 -1.429696 -0.583472  0.783218  0.364358  \n",
      "44  1.119780 -1.411461  0.204481  0.869654 -1.509584 -0.806578  \n",
      "45 -0.159865 -1.746625 -0.953113 -1.198827 -0.160946  0.486826  \n",
      "46 -1.307147  1.002371  0.157450  0.140843 -0.175863  0.353166  \n",
      "47 -0.574703 -0.393798  0.513483  0.163714  0.281447 -0.250061  \n",
      "48 -0.073851 -1.050334  0.430924  1.093870 -0.245826 -0.048778  \n",
      "49 -0.272532  0.124646 -0.728222  1.590925 -0.149016  1.311772  \n",
      "50 -0.829853 -0.581531  1.020684 -0.890645  0.009660  0.356501  \n",
      "\n",
      "[51 rows x 21 columns]\n"
     ]
    }
   ],
   "source": [
    "pca = PCA(n_components=21)\n",
    "pca_result = pca.fit_transform(data_scaled)\n",
    "\n",
    "# Create a new DataFrame with the PCA results\n",
    "pca_df = pd.DataFrame(pca_result, columns=[f'PC{i+1}' for i in range(n_components)])\n",
    "\n",
    "# Print the PCA DataFrame\n",
    "print(pca_df)"
   ]
  },
  {
   "cell_type": "markdown",
   "metadata": {},
   "source": [
    "HOWEVER, for the purpose of PCA classification with regards to our research problem, only PC1 is needed to create the index."
   ]
  },
  {
   "cell_type": "code",
   "execution_count": 50,
   "metadata": {},
   "outputs": [
    {
     "data": {
      "text/plain": [
       "[7.0163419163021805,\n",
       " -3.515398523905394,\n",
       " 0.36468222137709133,\n",
       " 8.433928627750069,\n",
       " -4.345191380805429,\n",
       " -5.873783920151823,\n",
       " -4.765980702634141,\n",
       " 0.8221356450572822,\n",
       " -8.673458507674075,\n",
       " 2.502880305343832,\n",
       " -4.191350826150988,\n",
       " 0.17211891070012372,\n",
       " -1.9564811549267314,\n",
       " 0.8864969283061163,\n",
       " -0.5773684188434702,\n",
       " 0.520587785532347,\n",
       " 8.475049225580248,\n",
       " 4.6278845965564805,\n",
       " 1.58640226043326,\n",
       " -2.767000767976065,\n",
       " -6.398738736931892,\n",
       " -0.028476170795630126,\n",
       " -3.4924132964601418,\n",
       " 10.772561241359094,\n",
       " 4.961668088954107,\n",
       " 0.7543933164750399,\n",
       " 1.0718346009473978,\n",
       " 0.5730970767375891,\n",
       " 0.01137150601582558,\n",
       " -6.351763804746762,\n",
       " 1.075040183285683,\n",
       " -0.9438704457724457,\n",
       " -0.7577973894547733,\n",
       " 2.1855059573069537,\n",
       " -3.515398523905398,\n",
       " 3.6861714750898775,\n",
       " 3.181306114583512,\n",
       " -3.963281084073817,\n",
       " -0.7057052077835796,\n",
       " -3.560734066305275,\n",
       " 3.2195029984893955,\n",
       " 0.36301385463983016,\n",
       " 3.7439721223778433,\n",
       " -0.11454416739652734,\n",
       " -4.761140086815654,\n",
       " -4.631862288024724,\n",
       " -4.771950296429193,\n",
       " -2.586293503655547,\n",
       " 9.880370442947223,\n",
       " -0.039800226490617985,\n",
       " 2.4014660959616956]"
      ]
     },
     "execution_count": 50,
     "metadata": {},
     "output_type": "execute_result"
    }
   ],
   "source": [
    "pca = PCA(n_components=1)\n",
    "pca_result = pca.fit_transform(data_scaled)\n",
    "\n",
    "# Storing scores/index to a list\n",
    "pc1_scores = [score for sublist in pca_result.tolist() for score in sublist]\n",
    "pc1_scores"
   ]
  },
  {
   "cell_type": "markdown",
   "metadata": {},
   "source": [
    "#### Examining the Index"
   ]
  },
  {
   "cell_type": "code",
   "execution_count": 54,
   "metadata": {},
   "outputs": [
    {
     "data": {
      "text/html": [
       "<div>\n",
       "<style scoped>\n",
       "    .dataframe tbody tr th:only-of-type {\n",
       "        vertical-align: middle;\n",
       "    }\n",
       "\n",
       "    .dataframe tbody tr th {\n",
       "        vertical-align: top;\n",
       "    }\n",
       "\n",
       "    .dataframe thead th {\n",
       "        text-align: right;\n",
       "    }\n",
       "</style>\n",
       "<table border=\"1\" class=\"dataframe\">\n",
       "  <thead>\n",
       "    <tr style=\"text-align: right;\">\n",
       "      <th></th>\n",
       "      <th>State_Name</th>\n",
       "      <th>health_index</th>\n",
       "    </tr>\n",
       "  </thead>\n",
       "  <tbody>\n",
       "    <tr>\n",
       "      <th>0</th>\n",
       "      <td>alabama</td>\n",
       "      <td>7.016342</td>\n",
       "    </tr>\n",
       "    <tr>\n",
       "      <th>1</th>\n",
       "      <td>alaska</td>\n",
       "      <td>-3.515399</td>\n",
       "    </tr>\n",
       "    <tr>\n",
       "      <th>2</th>\n",
       "      <td>arizona</td>\n",
       "      <td>0.364682</td>\n",
       "    </tr>\n",
       "    <tr>\n",
       "      <th>3</th>\n",
       "      <td>arkansas</td>\n",
       "      <td>8.433929</td>\n",
       "    </tr>\n",
       "    <tr>\n",
       "      <th>4</th>\n",
       "      <td>california</td>\n",
       "      <td>-4.345191</td>\n",
       "    </tr>\n",
       "  </tbody>\n",
       "</table>\n",
       "</div>"
      ],
      "text/plain": [
       "   State_Name  health_index\n",
       "0     alabama      7.016342\n",
       "1      alaska     -3.515399\n",
       "2     arizona      0.364682\n",
       "3    arkansas      8.433929\n",
       "4  california     -4.345191"
      ]
     },
     "execution_count": 54,
     "metadata": {},
     "output_type": "execute_result"
    }
   ],
   "source": [
    "# Placing PC scores/index into dataframe\n",
    "index_df = pd.DataFrame()\n",
    "means.reset_index(inplace=True)\n",
    "index_df['State_Name'], index_df['health_index'] = means['State_Name'], pc1_scores\n",
    "index_df.head()"
   ]
  },
  {
   "cell_type": "code",
   "execution_count": 56,
   "metadata": {},
   "outputs": [
    {
     "data": {
      "text/html": [
       "<div>\n",
       "<style scoped>\n",
       "    .dataframe tbody tr th:only-of-type {\n",
       "        vertical-align: middle;\n",
       "    }\n",
       "\n",
       "    .dataframe tbody tr th {\n",
       "        vertical-align: top;\n",
       "    }\n",
       "\n",
       "    .dataframe thead th {\n",
       "        text-align: right;\n",
       "    }\n",
       "</style>\n",
       "<table border=\"1\" class=\"dataframe\">\n",
       "  <thead>\n",
       "    <tr style=\"text-align: right;\">\n",
       "      <th></th>\n",
       "      <th>State_Name</th>\n",
       "      <th>health_index</th>\n",
       "    </tr>\n",
       "  </thead>\n",
       "  <tbody>\n",
       "    <tr>\n",
       "      <th>23</th>\n",
       "      <td>mississippi</td>\n",
       "      <td>10.772561</td>\n",
       "    </tr>\n",
       "    <tr>\n",
       "      <th>48</th>\n",
       "      <td>west virginia</td>\n",
       "      <td>9.880370</td>\n",
       "    </tr>\n",
       "    <tr>\n",
       "      <th>16</th>\n",
       "      <td>kentucky</td>\n",
       "      <td>8.475049</td>\n",
       "    </tr>\n",
       "    <tr>\n",
       "      <th>3</th>\n",
       "      <td>arkansas</td>\n",
       "      <td>8.433929</td>\n",
       "    </tr>\n",
       "    <tr>\n",
       "      <th>0</th>\n",
       "      <td>alabama</td>\n",
       "      <td>7.016342</td>\n",
       "    </tr>\n",
       "    <tr>\n",
       "      <th>24</th>\n",
       "      <td>missouri</td>\n",
       "      <td>4.961668</td>\n",
       "    </tr>\n",
       "    <tr>\n",
       "      <th>17</th>\n",
       "      <td>louisiana</td>\n",
       "      <td>4.627885</td>\n",
       "    </tr>\n",
       "    <tr>\n",
       "      <th>42</th>\n",
       "      <td>tennessee</td>\n",
       "      <td>3.743972</td>\n",
       "    </tr>\n",
       "    <tr>\n",
       "      <th>35</th>\n",
       "      <td>ohio</td>\n",
       "      <td>3.686171</td>\n",
       "    </tr>\n",
       "    <tr>\n",
       "      <th>40</th>\n",
       "      <td>south carolina</td>\n",
       "      <td>3.219503</td>\n",
       "    </tr>\n",
       "  </tbody>\n",
       "</table>\n",
       "</div>"
      ],
      "text/plain": [
       "        State_Name  health_index\n",
       "23     mississippi     10.772561\n",
       "48   west virginia      9.880370\n",
       "16        kentucky      8.475049\n",
       "3         arkansas      8.433929\n",
       "0          alabama      7.016342\n",
       "24        missouri      4.961668\n",
       "17       louisiana      4.627885\n",
       "42       tennessee      3.743972\n",
       "35            ohio      3.686171\n",
       "40  south carolina      3.219503"
      ]
     },
     "execution_count": 56,
     "metadata": {},
     "output_type": "execute_result"
    }
   ],
   "source": [
    "# Top 10 index score states\n",
    "index_df.nlargest(10, 'health_index')"
   ]
  },
  {
   "cell_type": "markdown",
   "metadata": {},
   "source": [
    "The states with the \"highest\" health index scores are in order as follows:\n",
    "- Mississippi\n",
    "- West Virginia\n",
    "- Kentucky\n",
    "- Arkansas\n",
    "- Alabama"
   ]
  },
  {
   "cell_type": "code",
   "execution_count": 57,
   "metadata": {},
   "outputs": [
    {
     "data": {
      "text/html": [
       "<div>\n",
       "<style scoped>\n",
       "    .dataframe tbody tr th:only-of-type {\n",
       "        vertical-align: middle;\n",
       "    }\n",
       "\n",
       "    .dataframe tbody tr th {\n",
       "        vertical-align: top;\n",
       "    }\n",
       "\n",
       "    .dataframe thead th {\n",
       "        text-align: right;\n",
       "    }\n",
       "</style>\n",
       "<table border=\"1\" class=\"dataframe\">\n",
       "  <thead>\n",
       "    <tr style=\"text-align: right;\">\n",
       "      <th></th>\n",
       "      <th>State_Name</th>\n",
       "      <th>health_index</th>\n",
       "    </tr>\n",
       "  </thead>\n",
       "  <tbody>\n",
       "    <tr>\n",
       "      <th>8</th>\n",
       "      <td>district of columbia</td>\n",
       "      <td>-8.673459</td>\n",
       "    </tr>\n",
       "    <tr>\n",
       "      <th>20</th>\n",
       "      <td>massachusetts</td>\n",
       "      <td>-6.398739</td>\n",
       "    </tr>\n",
       "    <tr>\n",
       "      <th>29</th>\n",
       "      <td>new jersey</td>\n",
       "      <td>-6.351764</td>\n",
       "    </tr>\n",
       "    <tr>\n",
       "      <th>5</th>\n",
       "      <td>colorado</td>\n",
       "      <td>-5.873784</td>\n",
       "    </tr>\n",
       "    <tr>\n",
       "      <th>46</th>\n",
       "      <td>virginia</td>\n",
       "      <td>-4.771950</td>\n",
       "    </tr>\n",
       "    <tr>\n",
       "      <th>6</th>\n",
       "      <td>connecticut</td>\n",
       "      <td>-4.765981</td>\n",
       "    </tr>\n",
       "    <tr>\n",
       "      <th>44</th>\n",
       "      <td>utah</td>\n",
       "      <td>-4.761140</td>\n",
       "    </tr>\n",
       "    <tr>\n",
       "      <th>45</th>\n",
       "      <td>vermont</td>\n",
       "      <td>-4.631862</td>\n",
       "    </tr>\n",
       "    <tr>\n",
       "      <th>4</th>\n",
       "      <td>california</td>\n",
       "      <td>-4.345191</td>\n",
       "    </tr>\n",
       "    <tr>\n",
       "      <th>10</th>\n",
       "      <td>hawaii</td>\n",
       "      <td>-4.191351</td>\n",
       "    </tr>\n",
       "  </tbody>\n",
       "</table>\n",
       "</div>"
      ],
      "text/plain": [
       "              State_Name  health_index\n",
       "8   district of columbia     -8.673459\n",
       "20         massachusetts     -6.398739\n",
       "29            new jersey     -6.351764\n",
       "5               colorado     -5.873784\n",
       "46              virginia     -4.771950\n",
       "6            connecticut     -4.765981\n",
       "44                  utah     -4.761140\n",
       "45               vermont     -4.631862\n",
       "4             california     -4.345191\n",
       "10                hawaii     -4.191351"
      ]
     },
     "execution_count": 57,
     "metadata": {},
     "output_type": "execute_result"
    }
   ],
   "source": [
    "# Low 10 index score states\n",
    "index_df.nsmallest(10, 'health_index')"
   ]
  },
  {
   "cell_type": "markdown",
   "metadata": {},
   "source": [
    "The states with the \"lowest\" health index scores are in order as follows:\n",
    "- (Washington DC)\n",
    "- Massachusetts\n",
    "- New Jersey\n",
    "- Colorado\n",
    "- Virginia\n",
    "- Connecticut"
   ]
  },
  {
   "cell_type": "code",
   "execution_count": 58,
   "metadata": {},
   "outputs": [],
   "source": [
    "# Merging to map data to plot\n",
    "index_df = map_means.merge(index_df, on='State_Name')"
   ]
  },
  {
   "cell_type": "code",
   "execution_count": 59,
   "metadata": {},
   "outputs": [
    {
     "data": {
      "image/png": "[encoded data removed]",
      "text/plain": [
       "<Figure size 720x720 with 2 Axes>"
      ]
     },
     "metadata": {},
     "output_type": "display_data"
    }
   ],
   "source": [
    "fig, ax = plt.subplots(figsize=(10, 10))\n",
    "\n",
    "index_df.plot(ax=ax,column='health_index',legend=True)\n",
    "\n",
    "# Add a title to the plot\n",
    "plt.title('General Health Index')\n",
    "plt.text(0.5, 0.95, 'Lower values indicate better health', transform=ax.transAxes, ha='center')\n",
    "\n",
    "# Display the plot\n",
    "plt.show()"
   ]
  },
  {
   "cell_type": "markdown",
   "metadata": {},
   "source": [
    "Noteably, the South and parts of the Midwest appear to have the highest index scores, indicating generally lower levels of general health compared to the rest of the United States."
   ]
  },
  {
   "cell_type": "markdown",
   "metadata": {},
   "source": [
    "# Ethics & Privacy"
   ]
  },
  {
   "cell_type": "markdown",
   "metadata": {},
   "source": [
    "There are no real concerns of any issues of privacy or terms with the data proposed as it is published transparently by the United States government for general public access and use. However, there is potential bias in the datasets as it relies on surveyed data. Based on the topics at hand of health and socioeconomic data, respondents may have chosen not to respond to certain questions or provided inaccurate information (such as lying about certain health statuses, income levels, etc.). Furthermore, there is potential for an imbalance in data from different states due to general population levels and/or number of individuals interested in responding to certain surveys over time.\n",
    "\n",
    "To address some of these issues, the data will be standardized and/or scaled as necessary based on states/populations versus number of respondents as well as cleaning up the dataset for any non-responses. For responses that are possible, mean values may and could be used to substitute missing values to help even out the overall number of observations to be used for analysis and prediction modeling."
   ]
  },
  {
   "cell_type": "markdown",
   "metadata": {},
   "source": [
    "# Conclusion & Discussion"
   ]
  },
  {
   "cell_type": "markdown",
   "metadata": {},
   "source": [
    "According to results from 'Americas Health Rankings,' the healthiest states (in order) are: New Hampshire, Massachusetts, Vermont, Connecticut, and Hawaii. Their model also determines the worst states being Louisiana, Mississippi, Arkansas, West Virginia, and Alabama. Based on this index and other research, the PCA index can be interpreted with lower values indicating greater general health and higher values indicating lower or worsened health on average. With this, the PCA model had the following outcomes:\n",
    "- Best States: (Washington DC), Massachusetts, New Jersey, Colorado, Virginia, Connecticut\n",
    "- Worst States: Mississippi, West Virginia, Kentucky, Arkansas, Alabama\n",
    "\n",
    "On initial comparison, the index/model only had 1/5 best states overlap with other indeces, however 3 of them (Hawaii, Vermont, and Connecticut) had very similar index scores (difference less than 1) indicating a general similar trend for the healthiest states. As for the worst states, 4/5 overlapped with the exception of Louisiana which placed better on this scale as the 7th worst state in terms of general health instead of number 1.\n",
    "\n",
    "From this, it can be concluded that the BRFSS survey data from the CDC does do a relatively good job at properly monitoring and assessing general health of both individuals and states when compared to other models that utilize different forms or greater variety in questions, conditions, etc. While there is no definitive method/ranking of general health across US states, the similarity in trends across different research and data sources/types does generally point to these states following the trends indicated in the data analysis and ranking."
   ]
  }
 ],
 "metadata": {
  "kernelspec": {
   "display_name": "Python 3 (ipykernel)",
   "language": "python",
   "name": "python3"
  },
  "language_info": {
   "codemirror_mode": {
    "name": "ipython",
    "version": 3
   },
   "file_extension": ".py",
   "mimetype": "text/x-python",
   "name": "python",
   "nbconvert_exporter": "python",
   "pygments_lexer": "ipython3",
   "version": "3.9.7"
  }
 },
 "nbformat": 4,
 "nbformat_minor": 2
}
